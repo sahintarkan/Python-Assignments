{
  "cells": [
    {
      "cell_type": "markdown",
      "metadata": {
        "id": "view-in-github",
        "colab_type": "text"
      },
      "source": [
        "<a href=\"https://colab.research.google.com/github/sahintarkan/Python-Assignments/blob/main/05_PythonBasic_26_January_2022.ipynb\" target=\"_parent\"><img src=\"https://colab.research.google.com/assets/colab-badge.svg\" alt=\"Open In Colab\"/></a>"
      ]
    },
    {
      "cell_type": "markdown",
      "id": "406f2981",
      "metadata": {
        "id": "406f2981"
      },
      "source": [
        "<img src=\"https://docs.google.com/uc?id=14xeXxFrVRjvOoUYWn_GuyE-v84wVzrqr\" class=\"img-fluid\" alt=\"CLRWY\" width=\"400\" height=\"200\">"
      ]
    },
    {
      "cell_type": "markdown",
      "id": "22263af8",
      "metadata": {
        "id": "22263af8"
      },
      "source": [
        "<h1><p style=\"text-align: center; color:darkblue\">Python In-Class, <br>26 January 2022</p><h1>"
      ]
    },
    {
      "cell_type": "code",
      "execution_count": null,
      "id": "6a6c8fd9",
      "metadata": {
        "id": "6a6c8fd9",
        "outputId": "6b9c82a1-708d-47e0-a6ee-bc9cffab4694"
      },
      "outputs": [
        {
          "data": {
            "text/plain": [
              "'Hi Joseph. Are you ill?'"
            ]
          },
          "execution_count": 4,
          "metadata": {},
          "output_type": "execute_result"
        }
      ],
      "source": [
        "name = \"Joseph\"\n",
        "status = \"ill\"\n",
        "\n",
        "message = f\"Hi {name}. Are you {status}?\"\n",
        "message"
      ]
    },
    {
      "cell_type": "code",
      "execution_count": null,
      "id": "f428e7e3",
      "metadata": {
        "id": "f428e7e3",
        "outputId": "76d5b14e-1b1d-416b-a1e8-f8fba3ce7dd0"
      },
      "outputs": [
        {
          "data": {
            "text/plain": [
              "'Hi Joseph. Are you ill?'"
            ]
          },
          "execution_count": 5,
          "metadata": {},
          "output_type": "execute_result"
        }
      ],
      "source": [
        "message = f\"Hi {name}. \\\n",
        "Are you {status}?\"\n",
        "message"
      ]
    },
    {
      "cell_type": "code",
      "execution_count": null,
      "id": "e2aecb5c",
      "metadata": {
        "id": "e2aecb5c"
      },
      "outputs": [],
      "source": [
        "isim  =\"ALİ veli\""
      ]
    },
    {
      "cell_type": "code",
      "execution_count": null,
      "id": "3efd2426",
      "metadata": {
        "id": "3efd2426",
        "outputId": "8ca9ea1e-eed9-483f-ca97-c90b51a090be"
      },
      "outputs": [
        {
          "data": {
            "text/plain": [
              "'ali̇ VELI'"
            ]
          },
          "execution_count": 7,
          "metadata": {},
          "output_type": "execute_result"
        }
      ],
      "source": [
        "isim.swapcase()"
      ]
    },
    {
      "cell_type": "code",
      "execution_count": null,
      "id": "c2c2bed9",
      "metadata": {
        "id": "c2c2bed9",
        "outputId": "568b697d-7d46-4178-a477-1f1841176914"
      },
      "outputs": [
        {
          "data": {
            "text/plain": [
              "'ALİ veli'"
            ]
          },
          "execution_count": 8,
          "metadata": {},
          "output_type": "execute_result"
        }
      ],
      "source": [
        "isim"
      ]
    },
    {
      "cell_type": "code",
      "execution_count": null,
      "id": "f8515932",
      "metadata": {
        "id": "f8515932"
      },
      "outputs": [],
      "source": [
        "isim = isim.swapcase()"
      ]
    },
    {
      "cell_type": "code",
      "execution_count": null,
      "id": "98ca591d",
      "metadata": {
        "id": "98ca591d",
        "outputId": "ceb8e81a-b444-43a5-e4cb-cbb301126e6e"
      },
      "outputs": [
        {
          "data": {
            "text/plain": [
              "'ali̇ VELI'"
            ]
          },
          "execution_count": 10,
          "metadata": {},
          "output_type": "execute_result"
        }
      ],
      "source": [
        "isim"
      ]
    },
    {
      "cell_type": "code",
      "execution_count": null,
      "id": "6922a833",
      "metadata": {
        "id": "6922a833"
      },
      "outputs": [],
      "source": [
        "soyisim = \"Smithson\""
      ]
    },
    {
      "cell_type": "code",
      "execution_count": null,
      "id": "29521491",
      "metadata": {
        "id": "29521491",
        "outputId": "f056f47b-cb4b-42a6-a8dd-3f0283cb7a4a"
      },
      "outputs": [
        {
          "data": {
            "text/plain": [
              "'sMITHSON'"
            ]
          },
          "execution_count": 12,
          "metadata": {},
          "output_type": "execute_result"
        }
      ],
      "source": [
        "soy = soyisim.swapcase()\n",
        "soy"
      ]
    },
    {
      "cell_type": "code",
      "execution_count": null,
      "id": "c957bf81",
      "metadata": {
        "id": "c957bf81",
        "outputId": "699b9183-eb7f-41d3-e07c-0ec9938af006"
      },
      "outputs": [
        {
          "name": "stdout",
          "output_type": "stream",
          "text": [
            "True\n",
            "True\n"
          ]
        }
      ],
      "source": [
        "email = \"clarusway@clarusway.com is my e-mail address\"\n",
        "print(email.startswith(\"@\", 9))\n",
        "print(email.endswith(\"-\", 10, 32))"
      ]
    },
    {
      "cell_type": "code",
      "execution_count": null,
      "id": "19763a22",
      "metadata": {
        "id": "19763a22"
      },
      "outputs": [],
      "source": [
        "text = \"Clarusway\""
      ]
    },
    {
      "cell_type": "code",
      "execution_count": null,
      "id": "0caa8b1e",
      "metadata": {
        "id": "0caa8b1e",
        "outputId": "efe3b0fe-6f15-403a-b9a9-c5255afe4aea"
      },
      "outputs": [
        {
          "data": {
            "text/plain": [
              "'clarusway'"
            ]
          },
          "execution_count": 15,
          "metadata": {},
          "output_type": "execute_result"
        }
      ],
      "source": [
        "text.replace(\"C\", \"c\")"
      ]
    },
    {
      "cell_type": "code",
      "execution_count": null,
      "id": "f16b6f5b",
      "metadata": {
        "id": "f16b6f5b",
        "outputId": "b31fbe67-aaf1-46dd-a23c-244345cec8c0"
      },
      "outputs": [
        {
          "data": {
            "text/plain": [
              "'Clarusway'"
            ]
          },
          "execution_count": 16,
          "metadata": {},
          "output_type": "execute_result"
        }
      ],
      "source": [
        "text"
      ]
    },
    {
      "cell_type": "code",
      "execution_count": null,
      "id": "1554e1a0",
      "metadata": {
        "id": "1554e1a0",
        "outputId": "9311f9dc-e11e-434b-ded0-1ecb05880a7d"
      },
      "outputs": [
        {
          "data": {
            "text/plain": [
              "'Cl**rusw**y'"
            ]
          },
          "execution_count": 17,
          "metadata": {},
          "output_type": "execute_result"
        }
      ],
      "source": [
        "text.replace(\"a\", \"**\")"
      ]
    },
    {
      "cell_type": "code",
      "execution_count": null,
      "id": "2d91dfe1",
      "metadata": {
        "id": "2d91dfe1",
        "outputId": "b446686d-a2fe-4252-dd45-8dad3b43514b"
      },
      "outputs": [
        {
          "data": {
            "text/plain": [
              "str"
            ]
          },
          "execution_count": 18,
          "metadata": {},
          "output_type": "execute_result"
        }
      ],
      "source": [
        "type(text.replace(\"a\", \"**\"))"
      ]
    },
    {
      "cell_type": "code",
      "execution_count": null,
      "id": "79dbeff0",
      "metadata": {
        "id": "79dbeff0",
        "outputId": "f954cae1-55ae-4f67-a2fc-7f662a7c8a11"
      },
      "outputs": [
        {
          "data": {
            "text/plain": [
              "'Clarusway'"
            ]
          },
          "execution_count": 19,
          "metadata": {},
          "output_type": "execute_result"
        }
      ],
      "source": [
        "text"
      ]
    },
    {
      "cell_type": "code",
      "execution_count": null,
      "id": "154c7b82",
      "metadata": {
        "id": "154c7b82",
        "outputId": "ba6d0400-27f7-46e3-dfbe-9547fd41b5fb"
      },
      "outputs": [
        {
          "data": {
            "text/plain": [
              "'Cl--rusw--y'"
            ]
          },
          "execution_count": 22,
          "metadata": {},
          "output_type": "execute_result"
        }
      ],
      "source": [
        "text.replace(\"a\", \"--\")"
      ]
    },
    {
      "cell_type": "code",
      "execution_count": null,
      "id": "4707a554",
      "metadata": {
        "id": "4707a554",
        "outputId": "133771c5-35b3-43dd-857d-16508c76a771"
      },
      "outputs": [
        {
          "data": {
            "text/plain": [
              "'Cl--ruw--y'"
            ]
          },
          "execution_count": 23,
          "metadata": {},
          "output_type": "execute_result"
        }
      ],
      "source": [
        "text.replace(\"a\", \"--\").replace(\"s\", \"\")"
      ]
    },
    {
      "cell_type": "code",
      "execution_count": null,
      "id": "6f4284d2",
      "metadata": {
        "id": "6f4284d2",
        "outputId": "f39af122-d1b8-4ef6-e863-762015a21127"
      },
      "outputs": [
        {
          "data": {
            "text/plain": [
              "'CL--RUW--Y'"
            ]
          },
          "execution_count": 24,
          "metadata": {},
          "output_type": "execute_result"
        }
      ],
      "source": [
        "text.replace(\"a\", \"--\").replace(\"s\", \"\").upper()"
      ]
    },
    {
      "cell_type": "code",
      "execution_count": null,
      "id": "65e153c1",
      "metadata": {
        "id": "65e153c1"
      },
      "outputs": [],
      "source": [
        "my_string = \"    listen first      \""
      ]
    },
    {
      "cell_type": "code",
      "execution_count": null,
      "id": "b4f1d595",
      "metadata": {
        "id": "b4f1d595",
        "outputId": "5610b61c-716e-4591-beab-760026040d36"
      },
      "outputs": [
        {
          "data": {
            "text/plain": [
              "'listen first'"
            ]
          },
          "execution_count": 26,
          "metadata": {},
          "output_type": "execute_result"
        }
      ],
      "source": [
        "my_string.strip()"
      ]
    },
    {
      "cell_type": "code",
      "execution_count": null,
      "id": "93769659",
      "metadata": {
        "id": "93769659"
      },
      "outputs": [],
      "source": [
        "my_string1 = \"\\n  listen first    \\t\""
      ]
    },
    {
      "cell_type": "code",
      "execution_count": null,
      "id": "d96c0b29",
      "metadata": {
        "id": "d96c0b29",
        "outputId": "ddeab392-5002-4eed-e785-d84f4efe8b6a"
      },
      "outputs": [
        {
          "data": {
            "text/plain": [
              "'listen first'"
            ]
          },
          "execution_count": 29,
          "metadata": {},
          "output_type": "execute_result"
        }
      ],
      "source": [
        "my_string1.strip()"
      ]
    },
    {
      "cell_type": "code",
      "execution_count": null,
      "id": "8d74dccd",
      "metadata": {
        "colab": {
          "base_uri": "https://localhost:8080/"
        },
        "id": "8d74dccd",
        "outputId": "806a38aa-ea7d-4e67-b9d1-18884a4ba319"
      },
      "outputs": [
        {
          "output_type": "stream",
          "name": "stdout",
          "text": [
            "Kısaltmasını öğrenmek istediğiniz kurum adını girin: ali veli deli\n",
            "avd"
          ]
        }
      ],
      "source": [
        "kardiz = input(\"Kısaltmasını öğrenmek istediğiniz kurum adını girin: \")\n",
        "for i in kardiz.split():\n",
        "   print(i[0], end=\"\")"
      ]
    },
    {
      "cell_type": "code",
      "source": [
        "kardiz = \"Bolvadin, Kilis, Siverek, İskenderun, İstanbul\"\n",
        "kardiz = kardiz.split(\"l\")\n",
        "print(kardiz)\n"
      ],
      "metadata": {
        "colab": {
          "base_uri": "https://localhost:8080/"
        },
        "id": "6JX4I3eIEhwx",
        "outputId": "6c00479e-6574-44aa-821f-af6dfbbb71ba"
      },
      "id": "6JX4I3eIEhwx",
      "execution_count": null,
      "outputs": [
        {
          "output_type": "stream",
          "name": "stdout",
          "text": [
            "['Bo', 'vadin, Ki', 'is, Siverek, İskenderun, İstanbu', '']\n"
          ]
        }
      ]
    },
    {
      "cell_type": "code",
      "source": [
        "import sys\n",
        "surum=sys.version\n",
        "print(surum.split())"
      ],
      "metadata": {
        "colab": {
          "base_uri": "https://localhost:8080/"
        },
        "id": "-JuCjTpQFP9I",
        "outputId": "42252e2c-9b6e-46c6-f954-afdf4ac004a7"
      },
      "id": "-JuCjTpQFP9I",
      "execution_count": null,
      "outputs": [
        {
          "output_type": "stream",
          "name": "stdout",
          "text": [
            "['3.7.13', '(default,', 'Mar', '16', '2022,', '17:37:17)', '[GCC', '7.5.0]']\n"
          ]
        }
      ]
    },
    {
      "cell_type": "code",
      "source": [
        "print(surum.split()[0])"
      ],
      "metadata": {
        "colab": {
          "base_uri": "https://localhost:8080/"
        },
        "id": "N-cJKo2XFv7A",
        "outputId": "76eebec4-3f74-4d4e-c940-c09d63ad7c08"
      },
      "id": "N-cJKo2XFv7A",
      "execution_count": null,
      "outputs": [
        {
          "output_type": "stream",
          "name": "stdout",
          "text": [
            "3.7.13\n"
          ]
        }
      ]
    },
    {
      "cell_type": "code",
      "source": [
        "metin = \"\"\"Python programlama dili Guido Van Rossum adlı Hollandalı bir programcı\n",
        "tarafından 90'lı yılların başında geliştirilmeye başlanmıştır. Çoğu insan, isminin\n",
        "Python olmasına bakarak, bu programlama dilinin, adını piton yılanından aldığını\n",
        "düşünür. Ancak zannedildiğinin aksine bu programlama dilinin adı piton yılanından\n",
        "gelmez. Guido Van Rossum bu programlama dilini, The Monty Python adlı bir İngiliz\n",
        "komedi grubunun, Monty Python's Flying Circus adlı gösterisinden esinlenerek\n",
        "adlandırmıştır. Ancak her ne kadar gerçek böyle olsa da, Python programlama\n",
        "dilinin pek çok yerde bir yılan figürü ile temsil edilmesi neredeyse bir gelenek\n",
        "halini almıştır diyebiliriz.\"\"\"\n",
        "\n",
        "print(metin.splitlines()[3])\n"
      ],
      "metadata": {
        "colab": {
          "base_uri": "https://localhost:8080/"
        },
        "id": "7qPsuzyJJXgn",
        "outputId": "6dc67331-f08c-498b-bd61-a27b017aaac6"
      },
      "id": "7qPsuzyJJXgn",
      "execution_count": null,
      "outputs": [
        {
          "output_type": "stream",
          "name": "stdout",
          "text": [
            "düşünür. Ancak zannedildiğinin aksine bu programlama dilinin adı piton yılanından\n"
          ]
        }
      ]
    },
    {
      "cell_type": "code",
      "source": [
        "d1 = \"python.ogg\"\n",
        "d2 = \"tkinter.mp3\"\n",
        "d3 = \"pygtk.ogg\"\n",
        "d4 = \"movie.avi\"\n",
        "d5 = \"sarki.mp3\"\n",
        "d6 = \"filanca.ogg\"\n",
        "d7 = \"falanca.mp3\"\n",
        "d8 = \"dosya.avi\"\n",
        "d9 = \"perl.ogg\"\n",
        "d10 = \"c.avi\"\n",
        "d11 = \"c++.mp3\"\n",
        "\n",
        "for i in d1, d2, d3, d4, d5, d6, d7, d8, d9, d10, d11:\n",
        "  if i.endswith(\".mp3\"):\n",
        "    print(i)"
      ],
      "metadata": {
        "colab": {
          "base_uri": "https://localhost:8080/"
        },
        "id": "VV2pkIglQ2do",
        "outputId": "e7062261-748b-4988-9373-73917b9a2b57"
      },
      "id": "VV2pkIglQ2do",
      "execution_count": null,
      "outputs": [
        {
          "output_type": "stream",
          "name": "stdout",
          "text": [
            "tkinter.mp3\n",
            "sarki.mp3\n",
            "falanca.mp3\n",
            "c++.mp3\n"
          ]
        }
      ]
    },
    {
      "cell_type": "code",
      "source": [
        "for i in d1, d2, d3, d4, d5, d6, d7, d8, d9, d10, d11:\n",
        "  if i[-4:len(i)] == \".mp3\":\n",
        "      print(i)"
      ],
      "metadata": {
        "colab": {
          "base_uri": "https://localhost:8080/"
        },
        "id": "yB9TvPNjRNEg",
        "outputId": "6e77b860-7ecb-41b2-b948-92076d4ea058"
      },
      "id": "yB9TvPNjRNEg",
      "execution_count": null,
      "outputs": [
        {
          "output_type": "stream",
          "name": "stdout",
          "text": [
            "tkinter.mp3\n",
            "sarki.mp3\n",
            "falanca.mp3\n",
            "c++.mp3\n"
          ]
        }
      ]
    },
    {
      "cell_type": "code",
      "source": [
        "sesli_harfler = 'aeıioöuü'\n",
        "sayaç = 0\n",
        "kelime = input('Bir kelime girin: ')\n",
        "for harf in kelime:\n",
        "  if harf in sesli_harfler:\n",
        "     sayaç += 1\n",
        "mesaj = '{} kelimesinde {} sesli harf var.'\n",
        "print(mesaj.format(kelime, sayaç))"
      ],
      "metadata": {
        "colab": {
          "base_uri": "https://localhost:8080/"
        },
        "id": "fxFxvmEjRM8o",
        "outputId": "69e1616d-d095-40e0-90ca-9f583cdcf49c"
      },
      "id": "fxFxvmEjRM8o",
      "execution_count": null,
      "outputs": [
        {
          "output_type": "stream",
          "name": "stdout",
          "text": [
            "Bir kelime girin: aldemir\n",
            "aldemir kelimesinde 3 sesli harf var.\n"
          ]
        }
      ]
    },
    {
      "cell_type": "code",
      "source": [
        "class Calculator:\n",
        "    def add(self, a, b):\n",
        "        return a+b\n",
        "    \n",
        "    def subtract(self, a, b):\n",
        "        return a-b\n",
        "        \n",
        "    def multiply(self, a, b):\n",
        "        return a*b\n",
        "\n",
        "    def divide(self, a, b):\n",
        "        return a/b\n",
        "\n",
        "#create a calculator object\n",
        "my_cl = Calculator()\n",
        "\n",
        "while True:\n",
        "\n",
        "    print(\"1: Add\")\n",
        "    print(\"2: Subtract\")\n",
        "    print(\"3: Multiply\")\n",
        "    print(\"4: Divide\")\n",
        "    print(\"5: Exit\")\n",
        "    \n",
        "    ch = int(input(\"Select operation: \"))\n",
        "    \n",
        "    #Make sure the user have entered the valid choice\n",
        "    if ch in (1, 2, 3, 4, 5):\n",
        "        \n",
        "        #first check whether user want to exit\n",
        "        if(ch == 5):\n",
        "            break\n",
        "        \n",
        "        #If not then ask fo the input and call appropiate methods        \n",
        "        a = int(input(\"Enter first number: \"))\n",
        "        b = int(input(\"Enter second number: \"))\n",
        "        \n",
        "        if(ch == 1):\n",
        "            print(a, \"+\", b, \"=\", my_cl.add(a, b))\n",
        "        elif(ch == 2):\n",
        "            print(a, \"-\", b, \"=\", my_cl.subtract(a, b))\n",
        "        elif(ch == 3):\n",
        "            print(a, \"*\", b, \"=\", my_cl.multiply(a, b))\n",
        "        elif(ch == 4):\n",
        "            print(a, \"/\", b, \"=\", my_cl.divide(a, b))\n",
        "    \n",
        "    else:\n",
        "        print(\"Invalid Input\")"
      ],
      "metadata": {
        "colab": {
          "base_uri": "https://localhost:8080/",
          "height": 853
        },
        "id": "HzDPb4u48Q47",
        "outputId": "2663007f-0179-4816-e06f-a5c6b436bc1e"
      },
      "id": "HzDPb4u48Q47",
      "execution_count": null,
      "outputs": [
        {
          "output_type": "stream",
          "name": "stdout",
          "text": [
            "1: Add\n",
            "2: Subtract\n",
            "3: Multiply\n",
            "4: Divide\n",
            "5: Exit\n",
            "Select operation: 2\n",
            "Enter first number: 45\n",
            "Enter second number: 54\n",
            "45 - 54 = -9\n",
            "1: Add\n",
            "2: Subtract\n",
            "3: Multiply\n",
            "4: Divide\n",
            "5: Exit\n"
          ]
        },
        {
          "output_type": "error",
          "ename": "KeyboardInterrupt",
          "evalue": "ignored",
          "traceback": [
            "\u001b[0;31m---------------------------------------------------------------------------\u001b[0m",
            "\u001b[0;31mKeyboardInterrupt\u001b[0m                         Traceback (most recent call last)",
            "\u001b[0;32m/usr/local/lib/python3.7/dist-packages/ipykernel/kernelbase.py\u001b[0m in \u001b[0;36m_input_request\u001b[0;34m(self, prompt, ident, parent, password)\u001b[0m\n\u001b[1;32m    728\u001b[0m             \u001b[0;32mtry\u001b[0m\u001b[0;34m:\u001b[0m\u001b[0;34m\u001b[0m\u001b[0;34m\u001b[0m\u001b[0m\n\u001b[0;32m--> 729\u001b[0;31m                 \u001b[0mident\u001b[0m\u001b[0;34m,\u001b[0m \u001b[0mreply\u001b[0m \u001b[0;34m=\u001b[0m \u001b[0mself\u001b[0m\u001b[0;34m.\u001b[0m\u001b[0msession\u001b[0m\u001b[0;34m.\u001b[0m\u001b[0mrecv\u001b[0m\u001b[0;34m(\u001b[0m\u001b[0mself\u001b[0m\u001b[0;34m.\u001b[0m\u001b[0mstdin_socket\u001b[0m\u001b[0;34m,\u001b[0m \u001b[0;36m0\u001b[0m\u001b[0;34m)\u001b[0m\u001b[0;34m\u001b[0m\u001b[0;34m\u001b[0m\u001b[0m\n\u001b[0m\u001b[1;32m    730\u001b[0m             \u001b[0;32mexcept\u001b[0m \u001b[0mException\u001b[0m\u001b[0;34m:\u001b[0m\u001b[0;34m\u001b[0m\u001b[0;34m\u001b[0m\u001b[0m\n",
            "\u001b[0;32m/usr/local/lib/python3.7/dist-packages/jupyter_client/session.py\u001b[0m in \u001b[0;36mrecv\u001b[0;34m(self, socket, mode, content, copy)\u001b[0m\n\u001b[1;32m    802\u001b[0m         \u001b[0;32mtry\u001b[0m\u001b[0;34m:\u001b[0m\u001b[0;34m\u001b[0m\u001b[0;34m\u001b[0m\u001b[0m\n\u001b[0;32m--> 803\u001b[0;31m             \u001b[0mmsg_list\u001b[0m \u001b[0;34m=\u001b[0m \u001b[0msocket\u001b[0m\u001b[0;34m.\u001b[0m\u001b[0mrecv_multipart\u001b[0m\u001b[0;34m(\u001b[0m\u001b[0mmode\u001b[0m\u001b[0;34m,\u001b[0m \u001b[0mcopy\u001b[0m\u001b[0;34m=\u001b[0m\u001b[0mcopy\u001b[0m\u001b[0;34m)\u001b[0m\u001b[0;34m\u001b[0m\u001b[0;34m\u001b[0m\u001b[0m\n\u001b[0m\u001b[1;32m    804\u001b[0m         \u001b[0;32mexcept\u001b[0m \u001b[0mzmq\u001b[0m\u001b[0;34m.\u001b[0m\u001b[0mZMQError\u001b[0m \u001b[0;32mas\u001b[0m \u001b[0me\u001b[0m\u001b[0;34m:\u001b[0m\u001b[0;34m\u001b[0m\u001b[0;34m\u001b[0m\u001b[0m\n",
            "\u001b[0;32m/usr/local/lib/python3.7/dist-packages/zmq/sugar/socket.py\u001b[0m in \u001b[0;36mrecv_multipart\u001b[0;34m(self, flags, copy, track)\u001b[0m\n\u001b[1;32m    624\u001b[0m         \"\"\"\n\u001b[0;32m--> 625\u001b[0;31m         \u001b[0mparts\u001b[0m \u001b[0;34m=\u001b[0m \u001b[0;34m[\u001b[0m\u001b[0mself\u001b[0m\u001b[0;34m.\u001b[0m\u001b[0mrecv\u001b[0m\u001b[0;34m(\u001b[0m\u001b[0mflags\u001b[0m\u001b[0;34m,\u001b[0m \u001b[0mcopy\u001b[0m\u001b[0;34m=\u001b[0m\u001b[0mcopy\u001b[0m\u001b[0;34m,\u001b[0m \u001b[0mtrack\u001b[0m\u001b[0;34m=\u001b[0m\u001b[0mtrack\u001b[0m\u001b[0;34m)\u001b[0m\u001b[0;34m]\u001b[0m\u001b[0;34m\u001b[0m\u001b[0;34m\u001b[0m\u001b[0m\n\u001b[0m\u001b[1;32m    626\u001b[0m         \u001b[0;31m# have first part already, only loop while more to receive\u001b[0m\u001b[0;34m\u001b[0m\u001b[0;34m\u001b[0m\u001b[0;34m\u001b[0m\u001b[0m\n",
            "\u001b[0;32mzmq/backend/cython/socket.pyx\u001b[0m in \u001b[0;36mzmq.backend.cython.socket.Socket.recv\u001b[0;34m()\u001b[0m\n",
            "\u001b[0;32mzmq/backend/cython/socket.pyx\u001b[0m in \u001b[0;36mzmq.backend.cython.socket.Socket.recv\u001b[0;34m()\u001b[0m\n",
            "\u001b[0;32mzmq/backend/cython/socket.pyx\u001b[0m in \u001b[0;36mzmq.backend.cython.socket._recv_copy\u001b[0;34m()\u001b[0m\n",
            "\u001b[0;32m/usr/local/lib/python3.7/dist-packages/zmq/backend/cython/checkrc.pxd\u001b[0m in \u001b[0;36mzmq.backend.cython.checkrc._check_rc\u001b[0;34m()\u001b[0m\n",
            "\u001b[0;31mKeyboardInterrupt\u001b[0m: ",
            "\nDuring handling of the above exception, another exception occurred:\n",
            "\u001b[0;31mKeyboardInterrupt\u001b[0m                         Traceback (most recent call last)",
            "\u001b[0;32m<ipython-input-1-df8154715798>\u001b[0m in \u001b[0;36m<module>\u001b[0;34m()\u001b[0m\n\u001b[1;32m     23\u001b[0m     \u001b[0mprint\u001b[0m\u001b[0;34m(\u001b[0m\u001b[0;34m\"5: Exit\"\u001b[0m\u001b[0;34m)\u001b[0m\u001b[0;34m\u001b[0m\u001b[0;34m\u001b[0m\u001b[0m\n\u001b[1;32m     24\u001b[0m \u001b[0;34m\u001b[0m\u001b[0m\n\u001b[0;32m---> 25\u001b[0;31m     \u001b[0mch\u001b[0m \u001b[0;34m=\u001b[0m \u001b[0mint\u001b[0m\u001b[0;34m(\u001b[0m\u001b[0minput\u001b[0m\u001b[0;34m(\u001b[0m\u001b[0;34m\"Select operation: \"\u001b[0m\u001b[0;34m)\u001b[0m\u001b[0;34m)\u001b[0m\u001b[0;34m\u001b[0m\u001b[0;34m\u001b[0m\u001b[0m\n\u001b[0m\u001b[1;32m     26\u001b[0m \u001b[0;34m\u001b[0m\u001b[0m\n\u001b[1;32m     27\u001b[0m     \u001b[0;31m#Make sure the user have entered the valid choice\u001b[0m\u001b[0;34m\u001b[0m\u001b[0;34m\u001b[0m\u001b[0;34m\u001b[0m\u001b[0m\n",
            "\u001b[0;32m/usr/local/lib/python3.7/dist-packages/ipykernel/kernelbase.py\u001b[0m in \u001b[0;36mraw_input\u001b[0;34m(self, prompt)\u001b[0m\n\u001b[1;32m    702\u001b[0m             \u001b[0mself\u001b[0m\u001b[0;34m.\u001b[0m\u001b[0m_parent_ident\u001b[0m\u001b[0;34m,\u001b[0m\u001b[0;34m\u001b[0m\u001b[0;34m\u001b[0m\u001b[0m\n\u001b[1;32m    703\u001b[0m             \u001b[0mself\u001b[0m\u001b[0;34m.\u001b[0m\u001b[0m_parent_header\u001b[0m\u001b[0;34m,\u001b[0m\u001b[0;34m\u001b[0m\u001b[0;34m\u001b[0m\u001b[0m\n\u001b[0;32m--> 704\u001b[0;31m             \u001b[0mpassword\u001b[0m\u001b[0;34m=\u001b[0m\u001b[0;32mFalse\u001b[0m\u001b[0;34m,\u001b[0m\u001b[0;34m\u001b[0m\u001b[0;34m\u001b[0m\u001b[0m\n\u001b[0m\u001b[1;32m    705\u001b[0m         )\n\u001b[1;32m    706\u001b[0m \u001b[0;34m\u001b[0m\u001b[0m\n",
            "\u001b[0;32m/usr/local/lib/python3.7/dist-packages/ipykernel/kernelbase.py\u001b[0m in \u001b[0;36m_input_request\u001b[0;34m(self, prompt, ident, parent, password)\u001b[0m\n\u001b[1;32m    732\u001b[0m             \u001b[0;32mexcept\u001b[0m \u001b[0mKeyboardInterrupt\u001b[0m\u001b[0;34m:\u001b[0m\u001b[0;34m\u001b[0m\u001b[0;34m\u001b[0m\u001b[0m\n\u001b[1;32m    733\u001b[0m                 \u001b[0;31m# re-raise KeyboardInterrupt, to truncate traceback\u001b[0m\u001b[0;34m\u001b[0m\u001b[0;34m\u001b[0m\u001b[0;34m\u001b[0m\u001b[0m\n\u001b[0;32m--> 734\u001b[0;31m                 \u001b[0;32mraise\u001b[0m \u001b[0mKeyboardInterrupt\u001b[0m\u001b[0;34m\u001b[0m\u001b[0;34m\u001b[0m\u001b[0m\n\u001b[0m\u001b[1;32m    735\u001b[0m             \u001b[0;32melse\u001b[0m\u001b[0;34m:\u001b[0m\u001b[0;34m\u001b[0m\u001b[0;34m\u001b[0m\u001b[0m\n\u001b[1;32m    736\u001b[0m                 \u001b[0;32mbreak\u001b[0m\u001b[0;34m\u001b[0m\u001b[0;34m\u001b[0m\u001b[0m\n",
            "\u001b[0;31mKeyboardInterrupt\u001b[0m: "
          ]
        }
      ]
    },
    {
      "cell_type": "code",
      "source": [
        "34"
      ],
      "metadata": {
        "id": "0bIJK0Zj8UkI",
        "colab": {
          "base_uri": "https://localhost:8080/"
        },
        "outputId": "06110943-bdd0-4fcb-eb1d-3556d70c742d"
      },
      "id": "0bIJK0Zj8UkI",
      "execution_count": null,
      "outputs": [
        {
          "output_type": "execute_result",
          "data": {
            "text/plain": [
              "34"
            ]
          },
          "metadata": {},
          "execution_count": 3
        }
      ]
    },
    {
      "cell_type": "code",
      "source": [
        "_\n"
      ],
      "metadata": {
        "colab": {
          "base_uri": "https://localhost:8080/"
        },
        "id": "rxlAmYVKKrCr",
        "outputId": "b6ab9e98-f759-4a61-dce7-601136a00a3f"
      },
      "id": "rxlAmYVKKrCr",
      "execution_count": null,
      "outputs": [
        {
          "output_type": "execute_result",
          "data": {
            "text/plain": [
              "34"
            ]
          },
          "metadata": {},
          "execution_count": 4
        }
      ]
    },
    {
      "cell_type": "code",
      "source": [
        "\"aaa\""
      ],
      "metadata": {
        "colab": {
          "base_uri": "https://localhost:8080/",
          "height": 35
        },
        "id": "ovpizuczK87k",
        "outputId": "ff573742-6913-4ad3-dfc6-c26333733049"
      },
      "id": "ovpizuczK87k",
      "execution_count": null,
      "outputs": [
        {
          "output_type": "execute_result",
          "data": {
            "text/plain": [
              "'aaa'"
            ],
            "application/vnd.google.colaboratory.intrinsic+json": {
              "type": "string"
            }
          },
          "metadata": {},
          "execution_count": 5
        }
      ]
    },
    {
      "cell_type": "code",
      "source": [
        "_"
      ],
      "metadata": {
        "colab": {
          "base_uri": "https://localhost:8080/",
          "height": 35
        },
        "id": "ncyPyIMhK_jF",
        "outputId": "9b23cd71-fdc1-45fa-c654-0c257cbb2701"
      },
      "id": "ncyPyIMhK_jF",
      "execution_count": null,
      "outputs": [
        {
          "output_type": "execute_result",
          "data": {
            "text/plain": [
              "'aaa'"
            ],
            "application/vnd.google.colaboratory.intrinsic+json": {
              "type": "string"
            }
          },
          "metadata": {},
          "execution_count": 6
        }
      ]
    },
    {
      "cell_type": "code",
      "source": [
        "pow(10,3,3)"
      ],
      "metadata": {
        "colab": {
          "base_uri": "https://localhost:8080/"
        },
        "id": "NFUsBcw_LCXk",
        "outputId": "e0769fa5-2c98-442a-c70f-377bd85d3a8e"
      },
      "id": "NFUsBcw_LCXk",
      "execution_count": null,
      "outputs": [
        {
          "output_type": "execute_result",
          "data": {
            "text/plain": [
              "1"
            ]
          },
          "metadata": {},
          "execution_count": 8
        }
      ]
    },
    {
      "cell_type": "code",
      "source": [
        "a=[1,2,3,4,5]\n",
        "for i in a:\n",
        "  a=pow(i,2)\n",
        "  print(a,end=\" \")"
      ],
      "metadata": {
        "colab": {
          "base_uri": "https://localhost:8080/"
        },
        "id": "4Ao-0VxDMLt8",
        "outputId": "de0173ff-aaab-48fa-dac4-6722f5a2e4c8"
      },
      "id": "4Ao-0VxDMLt8",
      "execution_count": null,
      "outputs": [
        {
          "output_type": "stream",
          "name": "stdout",
          "text": [
            "1 4 9 16 25 "
          ]
        }
      ]
    },
    {
      "cell_type": "code",
      "source": [
        "print(\"bir\", \"iki\", \"üç\", \"dört\", \"on dört\",\n",
        "... sep=\" mumdur \", end=\" mumdur\\n\")"
      ],
      "metadata": {
        "colab": {
          "base_uri": "https://localhost:8080/"
        },
        "id": "Wo8ycDa7OCXa",
        "outputId": "e627467f-9780-4769-9572-5d0796a521e7"
      },
      "id": "Wo8ycDa7OCXa",
      "execution_count": null,
      "outputs": [
        {
          "output_type": "stream",
          "name": "stdout",
          "text": [
            "bir mumdur iki mumdur üç mumdur dört mumdur on dört\n"
          ]
        }
      ]
    },
    {
      "cell_type": "code",
      "source": [
        "print(\"Tahir olmak da ayıp değil\", \"Zühre olmak da\",\n",
        "... sep=\" \")\n"
      ],
      "metadata": {
        "colab": {
          "base_uri": "https://localhost:8080/"
        },
        "id": "NIV9vfJUQpOq",
        "outputId": "333530a5-e0bb-47c7-a01c-5f520723e422"
      },
      "id": "NIV9vfJUQpOq",
      "execution_count": null,
      "outputs": [
        {
          "output_type": "stream",
          "name": "stdout",
          "text": [
            "Tahir olmak da ayıp değil Zühre olmak da\n"
          ]
        }
      ]
    },
    {
      "cell_type": "code",
      "source": [
        "print(\"ali\" , flush=False)"
      ],
      "metadata": {
        "colab": {
          "base_uri": "https://localhost:8080/"
        },
        "id": "SkNk2EijRQYx",
        "outputId": "9e790d6e-4cb1-4ee4-c880-17413c1bccbb"
      },
      "id": "SkNk2EijRQYx",
      "execution_count": null,
      "outputs": [
        {
          "output_type": "stream",
          "name": "stdout",
          "text": [
            "ali\n"
          ]
        }
      ]
    },
    {
      "cell_type": "code",
      "source": [
        "başlık = \"Alışveriş Listesi\"\n",
        "print(başlık, \"\\n\", \"-\" * len(başlık), sep=\"\")"
      ],
      "metadata": {
        "colab": {
          "base_uri": "https://localhost:8080/"
        },
        "id": "9mnRZ1NolCtw",
        "outputId": "66e05251-efaf-45a8-dcfa-4fe60ae267ac"
      },
      "id": "9mnRZ1NolCtw",
      "execution_count": null,
      "outputs": [
        {
          "output_type": "stream",
          "name": "stdout",
          "text": [
            "Alışveriş Listesi=\n",
            "=+.+.+.+.+.+.+.+.+.+.+.+.+.+.+.+.+.\n"
          ]
        }
      ]
    },
    {
      "cell_type": "code",
      "source": [
        "print(\"\\a\" *10)\n"
      ],
      "metadata": {
        "colab": {
          "base_uri": "https://localhost:8080/"
        },
        "id": "LWncixe8lCrU",
        "outputId": "1de50b2e-b3c1-43ea-e943-c8a13567336f"
      },
      "id": "LWncixe8lCrU",
      "execution_count": null,
      "outputs": [
        {
          "output_type": "stream",
          "name": "stdout",
          "text": [
            "\u0007\u0007\u0007\u0007\u0007\u0007\u0007\u0007\u0007\u0007\n"
          ]
        }
      ]
    },
    {
      "cell_type": "code",
      "source": [
        "print(\"merhaba \\v dunya\")"
      ],
      "metadata": {
        "colab": {
          "base_uri": "https://localhost:8080/"
        },
        "id": "1juyYSEClCow",
        "outputId": "602adf57-c8ff-4a44-cb47-557a765c4a65"
      },
      "id": "1juyYSEClCow",
      "execution_count": null,
      "outputs": [
        {
          "output_type": "stream",
          "name": "stdout",
          "text": [
            "merhaba \u000b dunya\n"
          ]
        }
      ]
    },
    {
      "cell_type": "code",
      "source": [
        "kaynak = \"şçöğüıŞÇÖĞÜİ\"\n",
        "hedef = \"scoguiSCOGUI\"\n",
        "çeviri_tablosu = str.maketrans(kaynak, hedef)\n",
        "metin = \"Bildiğiniz gibi, internet üzerinde bazen Türkçe karakterleri kullanamıyoruz.\"\n",
        "#print(metin.translate(çeviri_tablosu))\n",
        "#print(çeviri_tablosu)\n",
        "metin.translate(çeviri_tablosu)"
      ],
      "metadata": {
        "colab": {
          "base_uri": "https://localhost:8080/",
          "height": 35
        },
        "id": "tstG181mlClv",
        "outputId": "ba5221f4-2864-4071-b2cc-723a973abfd1"
      },
      "id": "tstG181mlClv",
      "execution_count": null,
      "outputs": [
        {
          "output_type": "execute_result",
          "data": {
            "text/plain": [
              "'Bildiginiz gibi, internet uzerinde bazen Turkce karakterleri kullanamiyoruz.'"
            ],
            "application/vnd.google.colaboratory.intrinsic+json": {
              "type": "string"
            }
          },
          "metadata": {},
          "execution_count": 4
        }
      ]
    },
    {
      "cell_type": "code",
      "source": [
        "a=\"ali\"\n",
        "print(a.split())"
      ],
      "metadata": {
        "colab": {
          "base_uri": "https://localhost:8080/"
        },
        "id": "mmaTtcwY3m_c",
        "outputId": "56a18a9a-9a3c-4985-b3eb-aaa9f02bba23"
      },
      "id": "mmaTtcwY3m_c",
      "execution_count": null,
      "outputs": [
        {
          "output_type": "stream",
          "name": "stdout",
          "text": [
            "['ali']\n"
          ]
        }
      ]
    },
    {
      "cell_type": "code",
      "source": [
        "import random\n",
        "import time\n",
        "\n",
        "class Kumanda():\n",
        "\n",
        "\n",
        "    def __init__(self,tv_durum = \"Kapalı\",tv_ses = 0,kanal_listesi = [\"Trt\"],kanal = \"Trt\"):\n",
        "\n",
        "        self.tv_durum = tv_durum\n",
        "\n",
        "        self.tv_ses = tv_ses\n",
        "\n",
        "        self.kanal_listesi = kanal_listesi\n",
        "\n",
        "        self.kanal = kanal\n",
        "\n",
        "    def tv_ac(self):\n",
        "\n",
        "        if (self.tv_durum == \"Açık\"):\n",
        "            print(\"Televizyon zaten açık....\")\n",
        "        else:\n",
        "            print(\"Televizyon Açılıyor...\")\n",
        "            self.tv_durum  = \"Açık\"\n",
        "\n",
        "    def tv_kapat(self):\n",
        "\n",
        "        if (self.tv_durum == \"Kapalı\"):\n",
        "            print(\"Televizyon Zaten Kapalı..\")\n",
        "        else:\n",
        "            print(\"Televizyon Kapanıyor....\")\n",
        "            self.tv_durum = \"Kapalı\"\n",
        "\n",
        "    def ses_ayarları(self):\n",
        "\n",
        "        while True:\n",
        "            cevap =  input(\"Sesi Azalt: '<'\\nSesi Artır: '>'\\nÇıkış : çıkış\")\n",
        "\n",
        "            if (cevap == \"<\"):\n",
        "                if (self.tv_ses != 0):\n",
        "\n",
        "                    self.tv_ses -= 1\n",
        "                    print(\"Ses:\",self.tv_ses)\n",
        "            elif (cevap == \">\"):\n",
        "                if (self.tv_ses != 31):\n",
        "\n",
        "                    self.tv_ses += 1\n",
        "\n",
        "                    print(\"Ses:\",self.tv_ses)\n",
        "            else:\n",
        "                print(\"Ses Güncellendi:\",self.tv_ses)\n",
        "                break\n",
        "    def kanal_ekle(self,kanal_ismi):\n",
        "\n",
        "        print(\"Kanal ekleniyor....\")\n",
        "        time.sleep(1)\n",
        "\n",
        "        self.kanal_listesi.append(kanal_ismi)\n",
        "\n",
        "        print(\"Kanal Eklendi.....\")\n",
        "    def rastgele_kanal(self):\n",
        "\n",
        "        rastgele = random.randint(0,len(self.kanal_listesi)-1)\n",
        "\n",
        "\n",
        "        self.kanal = self.kanal_listesi[rastgele]\n",
        "\n",
        "        print(\"Şu anki Kanal:\" ,self.kanal)\n",
        "    def __len__(self):\n",
        "\n",
        "        return len(self.kanal_listesi)\n",
        "\n",
        "    def __str__(self):\n",
        "\n",
        "        return \"Tv Durumu: {}\\nTv Ses: {}\\nKanal Listesi: {}\\nŞu anki kanal: {}\\n\".format(self.tv_durum,self.tv_ses,self.kanal_listesi,self.kanal)\n",
        "\n",
        "\n",
        "kumanda = Kumanda()\n",
        "\n",
        "\n",
        "print(\"\"\"\n",
        "\n",
        "Televizyon Uygulaması\n",
        "\n",
        "\n",
        "1. Tv Aç\n",
        "\n",
        "2. Tv Kapat\n",
        "\n",
        "3. Ses Ayarları\n",
        "\n",
        "4. Kanal Ekle\n",
        "\n",
        "5. Kanal Sayısını Öğrenme\n",
        "\n",
        "6. Rastgele Kanala Geçme\n",
        "\n",
        "7. Televizyon Bilgileri\n",
        "\n",
        "Çıkmak için 'q' ya basın.\n",
        "\"\"\")\n",
        "\n",
        "\n",
        "while True:\n",
        "\n",
        "    işlem = input(\"İşlemi Seçiniz:\")\n",
        "\n",
        "    if (işlem == \"q\"):\n",
        "        print(\"Program Sonlandırılıyor...\")\n",
        "        break\n",
        "\n",
        "    elif (işlem == \"1\"):\n",
        "        kumanda.tv_ac()\n",
        "    elif (işlem == \"2\"):\n",
        "        kumanda.tv_kapat()\n",
        "\n",
        "    elif (işlem == \"3\"):\n",
        "        kumanda.ses_ayarları()\n",
        "\n",
        "    elif (işlem == \"4\"):\n",
        "        kanal_isimleri = input(\"Kanal isimlerini ',' ile ayırarak girin:\")\n",
        "\n",
        "        kanal_listesi = kanal_isimleri.split(\",\")\n",
        "\n",
        "        for eklenecekler in kanal_listesi:\n",
        "            kumanda.kanal_ekle(eklenecekler)\n",
        "    elif (işlem == \"5\"):\n",
        "\n",
        "        print(\"Kanal Sayısı:\",len(kumanda))\n",
        "\n",
        "    elif (işlem == \"6\"):\n",
        "        kumanda.rastgele_kanal()\n",
        "    elif (işlem == \"7\"):\n",
        "        print(kumanda)\n",
        "\n",
        "    else:\n",
        "        print(\"Geçersiz İşlem......\")"
      ],
      "metadata": {
        "colab": {
          "base_uri": "https://localhost:8080/",
          "height": 981
        },
        "id": "4Re-N9Dh6MPb",
        "outputId": "a4f42efe-9099-46fd-b39f-6db070d7a037"
      },
      "id": "4Re-N9Dh6MPb",
      "execution_count": null,
      "outputs": [
        {
          "output_type": "stream",
          "name": "stdout",
          "text": [
            "\n",
            "\n",
            "Televizyon Uygulaması\n",
            "\n",
            "\n",
            "1. Tv Aç\n",
            "\n",
            "2. Tv Kapat\n",
            "\n",
            "3. Ses Ayarları\n",
            "\n",
            "4. Kanal Ekle\n",
            "\n",
            "5. Kanal Sayısını Öğrenme\n",
            "\n",
            "6. Rastgele Kanala Geçme\n",
            "\n",
            "7. Televizyon Bilgileri\n",
            "\n",
            "Çıkmak için 'q' ya basın.\n",
            "\n",
            "İşlemi Seçiniz:1\n",
            "Televizyon Açılıyor...\n"
          ]
        },
        {
          "output_type": "error",
          "ename": "KeyboardInterrupt",
          "evalue": "ignored",
          "traceback": [
            "\u001b[0;31m---------------------------------------------------------------------------\u001b[0m",
            "\u001b[0;31mKeyboardInterrupt\u001b[0m                         Traceback (most recent call last)",
            "\u001b[0;32m/usr/local/lib/python3.7/dist-packages/ipykernel/kernelbase.py\u001b[0m in \u001b[0;36m_input_request\u001b[0;34m(self, prompt, ident, parent, password)\u001b[0m\n\u001b[1;32m    728\u001b[0m             \u001b[0;32mtry\u001b[0m\u001b[0;34m:\u001b[0m\u001b[0;34m\u001b[0m\u001b[0;34m\u001b[0m\u001b[0m\n\u001b[0;32m--> 729\u001b[0;31m                 \u001b[0mident\u001b[0m\u001b[0;34m,\u001b[0m \u001b[0mreply\u001b[0m \u001b[0;34m=\u001b[0m \u001b[0mself\u001b[0m\u001b[0;34m.\u001b[0m\u001b[0msession\u001b[0m\u001b[0;34m.\u001b[0m\u001b[0mrecv\u001b[0m\u001b[0;34m(\u001b[0m\u001b[0mself\u001b[0m\u001b[0;34m.\u001b[0m\u001b[0mstdin_socket\u001b[0m\u001b[0;34m,\u001b[0m \u001b[0;36m0\u001b[0m\u001b[0;34m)\u001b[0m\u001b[0;34m\u001b[0m\u001b[0;34m\u001b[0m\u001b[0m\n\u001b[0m\u001b[1;32m    730\u001b[0m             \u001b[0;32mexcept\u001b[0m \u001b[0mException\u001b[0m\u001b[0;34m:\u001b[0m\u001b[0;34m\u001b[0m\u001b[0;34m\u001b[0m\u001b[0m\n",
            "\u001b[0;32m/usr/local/lib/python3.7/dist-packages/jupyter_client/session.py\u001b[0m in \u001b[0;36mrecv\u001b[0;34m(self, socket, mode, content, copy)\u001b[0m\n\u001b[1;32m    802\u001b[0m         \u001b[0;32mtry\u001b[0m\u001b[0;34m:\u001b[0m\u001b[0;34m\u001b[0m\u001b[0;34m\u001b[0m\u001b[0m\n\u001b[0;32m--> 803\u001b[0;31m             \u001b[0mmsg_list\u001b[0m \u001b[0;34m=\u001b[0m \u001b[0msocket\u001b[0m\u001b[0;34m.\u001b[0m\u001b[0mrecv_multipart\u001b[0m\u001b[0;34m(\u001b[0m\u001b[0mmode\u001b[0m\u001b[0;34m,\u001b[0m \u001b[0mcopy\u001b[0m\u001b[0;34m=\u001b[0m\u001b[0mcopy\u001b[0m\u001b[0;34m)\u001b[0m\u001b[0;34m\u001b[0m\u001b[0;34m\u001b[0m\u001b[0m\n\u001b[0m\u001b[1;32m    804\u001b[0m         \u001b[0;32mexcept\u001b[0m \u001b[0mzmq\u001b[0m\u001b[0;34m.\u001b[0m\u001b[0mZMQError\u001b[0m \u001b[0;32mas\u001b[0m \u001b[0me\u001b[0m\u001b[0;34m:\u001b[0m\u001b[0;34m\u001b[0m\u001b[0;34m\u001b[0m\u001b[0m\n",
            "\u001b[0;32m/usr/local/lib/python3.7/dist-packages/zmq/sugar/socket.py\u001b[0m in \u001b[0;36mrecv_multipart\u001b[0;34m(self, flags, copy, track)\u001b[0m\n\u001b[1;32m    624\u001b[0m         \"\"\"\n\u001b[0;32m--> 625\u001b[0;31m         \u001b[0mparts\u001b[0m \u001b[0;34m=\u001b[0m \u001b[0;34m[\u001b[0m\u001b[0mself\u001b[0m\u001b[0;34m.\u001b[0m\u001b[0mrecv\u001b[0m\u001b[0;34m(\u001b[0m\u001b[0mflags\u001b[0m\u001b[0;34m,\u001b[0m \u001b[0mcopy\u001b[0m\u001b[0;34m=\u001b[0m\u001b[0mcopy\u001b[0m\u001b[0;34m,\u001b[0m \u001b[0mtrack\u001b[0m\u001b[0;34m=\u001b[0m\u001b[0mtrack\u001b[0m\u001b[0;34m)\u001b[0m\u001b[0;34m]\u001b[0m\u001b[0;34m\u001b[0m\u001b[0;34m\u001b[0m\u001b[0m\n\u001b[0m\u001b[1;32m    626\u001b[0m         \u001b[0;31m# have first part already, only loop while more to receive\u001b[0m\u001b[0;34m\u001b[0m\u001b[0;34m\u001b[0m\u001b[0;34m\u001b[0m\u001b[0m\n",
            "\u001b[0;32mzmq/backend/cython/socket.pyx\u001b[0m in \u001b[0;36mzmq.backend.cython.socket.Socket.recv\u001b[0;34m()\u001b[0m\n",
            "\u001b[0;32mzmq/backend/cython/socket.pyx\u001b[0m in \u001b[0;36mzmq.backend.cython.socket.Socket.recv\u001b[0;34m()\u001b[0m\n",
            "\u001b[0;32mzmq/backend/cython/socket.pyx\u001b[0m in \u001b[0;36mzmq.backend.cython.socket._recv_copy\u001b[0;34m()\u001b[0m\n",
            "\u001b[0;32m/usr/local/lib/python3.7/dist-packages/zmq/backend/cython/checkrc.pxd\u001b[0m in \u001b[0;36mzmq.backend.cython.checkrc._check_rc\u001b[0;34m()\u001b[0m\n",
            "\u001b[0;31mKeyboardInterrupt\u001b[0m: ",
            "\nDuring handling of the above exception, another exception occurred:\n",
            "\u001b[0;31mKeyboardInterrupt\u001b[0m                         Traceback (most recent call last)",
            "\u001b[0;32m<ipython-input-7-e1eeaacf5f58>\u001b[0m in \u001b[0;36m<module>\u001b[0;34m()\u001b[0m\n\u001b[1;32m    103\u001b[0m \u001b[0;32mwhile\u001b[0m \u001b[0;32mTrue\u001b[0m\u001b[0;34m:\u001b[0m\u001b[0;34m\u001b[0m\u001b[0;34m\u001b[0m\u001b[0m\n\u001b[1;32m    104\u001b[0m \u001b[0;34m\u001b[0m\u001b[0m\n\u001b[0;32m--> 105\u001b[0;31m     \u001b[0mişlem\u001b[0m \u001b[0;34m=\u001b[0m \u001b[0minput\u001b[0m\u001b[0;34m(\u001b[0m\u001b[0;34m\"İşlemi Seçiniz:\"\u001b[0m\u001b[0;34m)\u001b[0m\u001b[0;34m\u001b[0m\u001b[0;34m\u001b[0m\u001b[0m\n\u001b[0m\u001b[1;32m    106\u001b[0m \u001b[0;34m\u001b[0m\u001b[0m\n\u001b[1;32m    107\u001b[0m     \u001b[0;32mif\u001b[0m \u001b[0;34m(\u001b[0m\u001b[0mişlem\u001b[0m \u001b[0;34m==\u001b[0m \u001b[0;34m\"q\"\u001b[0m\u001b[0;34m)\u001b[0m\u001b[0;34m:\u001b[0m\u001b[0;34m\u001b[0m\u001b[0;34m\u001b[0m\u001b[0m\n",
            "\u001b[0;32m/usr/local/lib/python3.7/dist-packages/ipykernel/kernelbase.py\u001b[0m in \u001b[0;36mraw_input\u001b[0;34m(self, prompt)\u001b[0m\n\u001b[1;32m    702\u001b[0m             \u001b[0mself\u001b[0m\u001b[0;34m.\u001b[0m\u001b[0m_parent_ident\u001b[0m\u001b[0;34m,\u001b[0m\u001b[0;34m\u001b[0m\u001b[0;34m\u001b[0m\u001b[0m\n\u001b[1;32m    703\u001b[0m             \u001b[0mself\u001b[0m\u001b[0;34m.\u001b[0m\u001b[0m_parent_header\u001b[0m\u001b[0;34m,\u001b[0m\u001b[0;34m\u001b[0m\u001b[0;34m\u001b[0m\u001b[0m\n\u001b[0;32m--> 704\u001b[0;31m             \u001b[0mpassword\u001b[0m\u001b[0;34m=\u001b[0m\u001b[0;32mFalse\u001b[0m\u001b[0;34m,\u001b[0m\u001b[0;34m\u001b[0m\u001b[0;34m\u001b[0m\u001b[0m\n\u001b[0m\u001b[1;32m    705\u001b[0m         )\n\u001b[1;32m    706\u001b[0m \u001b[0;34m\u001b[0m\u001b[0m\n",
            "\u001b[0;32m/usr/local/lib/python3.7/dist-packages/ipykernel/kernelbase.py\u001b[0m in \u001b[0;36m_input_request\u001b[0;34m(self, prompt, ident, parent, password)\u001b[0m\n\u001b[1;32m    732\u001b[0m             \u001b[0;32mexcept\u001b[0m \u001b[0mKeyboardInterrupt\u001b[0m\u001b[0;34m:\u001b[0m\u001b[0;34m\u001b[0m\u001b[0;34m\u001b[0m\u001b[0m\n\u001b[1;32m    733\u001b[0m                 \u001b[0;31m# re-raise KeyboardInterrupt, to truncate traceback\u001b[0m\u001b[0;34m\u001b[0m\u001b[0;34m\u001b[0m\u001b[0;34m\u001b[0m\u001b[0m\n\u001b[0;32m--> 734\u001b[0;31m                 \u001b[0;32mraise\u001b[0m \u001b[0mKeyboardInterrupt\u001b[0m\u001b[0;34m\u001b[0m\u001b[0;34m\u001b[0m\u001b[0m\n\u001b[0m\u001b[1;32m    735\u001b[0m             \u001b[0;32melse\u001b[0m\u001b[0;34m:\u001b[0m\u001b[0;34m\u001b[0m\u001b[0;34m\u001b[0m\u001b[0m\n\u001b[1;32m    736\u001b[0m                 \u001b[0;32mbreak\u001b[0m\u001b[0;34m\u001b[0m\u001b[0;34m\u001b[0m\u001b[0m\n",
            "\u001b[0;31mKeyboardInterrupt\u001b[0m: "
          ]
        }
      ]
    },
    {
      "cell_type": "code",
      "source": [
        "a=\"cemil\"\n",
        "\n",
        "print(a.join(\"b\"))"
      ],
      "metadata": {
        "colab": {
          "base_uri": "https://localhost:8080/"
        },
        "id": "MeErtTaDnjyI",
        "outputId": "b0574b2f-db9f-44a1-e600-c99fa6a3e288"
      },
      "id": "MeErtTaDnjyI",
      "execution_count": null,
      "outputs": [
        {
          "output_type": "stream",
          "name": "stdout",
          "text": [
            "b\n"
          ]
        }
      ]
    },
    {
      "cell_type": "code",
      "source": [
        "first_arr = [\"aaabaaddae\", \"aed\"]\n",
        "\n",
        "def min_window(wrd_arr):\n",
        "    wrd1 = wrd_arr[0]\n",
        "    wrd2 = wrd_arr[1]\n",
        "    for i in range(len(wrd2), len(wrd1)+1) :\n",
        "        new1 = wrd1[:i]\n",
        "        if all(new1.count(j) >= wrd2.count(j) for j in wrd2) :\n",
        "          return new1\n",
        "          break\n",
        "        \n",
        "while True :\n",
        "    temp_arr = []\n",
        "    result1 = min_window(first_arr)\n",
        "    temp_arr = [result1[::-1]] + [first_arr[1]]\n",
        "    result2 = min_window(temp_arr)\n",
        "    if len(result1) == len(result2) :\n",
        "      print(result1)\n",
        "      break\n",
        "    else :\n",
        "      first_arr = [result2[::-1]] + [first_arr[1]]"
      ],
      "metadata": {
        "colab": {
          "base_uri": "https://localhost:8080/"
        },
        "id": "SLEb4dt7nju6",
        "outputId": "21349b1f-65cf-4022-fd1c-6f5f1512e39c"
      },
      "id": "SLEb4dt7nju6",
      "execution_count": null,
      "outputs": [
        {
          "output_type": "stream",
          "name": "stdout",
          "text": [
            "dae\n"
          ]
        }
      ]
    },
    {
      "cell_type": "code",
      "source": [
        "a=int(input(\"sayi giriniz\"))\n",
        "if a<10 or a % 2 !=0 or a>50:\n",
        "    print(\"it is weird\")\n",
        "else:\n",
        "    print(\"it is NOT weird\")    "
      ],
      "metadata": {
        "colab": {
          "base_uri": "https://localhost:8080/"
        },
        "id": "jqvQ3Vd5njrl",
        "outputId": "f52574f6-24c0-4c3e-ec49-07bdebd4aac5"
      },
      "id": "jqvQ3Vd5njrl",
      "execution_count": null,
      "outputs": [
        {
          "output_type": "stream",
          "name": "stdout",
          "text": [
            "sayi giriniz54\n",
            "it is weird\n"
          ]
        }
      ]
    },
    {
      "cell_type": "code",
      "source": [
        "def front_back(word):\n",
        "  for i in word:\n",
        "    if len(word)>=2:\n",
        "      return word[-1] + word[1:-1] + word[0]\n",
        "    else:\n",
        "      print(word)\n",
        "\n",
        "front_back(\"a\")  \n",
        "  "
      ],
      "metadata": {
        "colab": {
          "base_uri": "https://localhost:8080/"
        },
        "id": "-XFtH_RcnjoF",
        "outputId": "2ecdd603-be9e-44eb-f078-0e8ef35d1594"
      },
      "id": "-XFtH_RcnjoF",
      "execution_count": null,
      "outputs": [
        {
          "output_type": "stream",
          "name": "stdout",
          "text": [
            "a\n"
          ]
        }
      ]
    },
    {
      "cell_type": "code",
      "source": [
        "mzz"
      ],
      "metadata": {
        "id": "pOcZ6IkOnji-"
      },
      "id": "pOcZ6IkOnji-",
      "execution_count": null,
      "outputs": []
    },
    {
      "cell_type": "code",
      "source": [
        ""
      ],
      "metadata": {
        "id": "648dzUMsnja2"
      },
      "id": "648dzUMsnja2",
      "execution_count": null,
      "outputs": []
    }
  ],
  "metadata": {
    "kernelspec": {
      "display_name": "Python 3",
      "language": "python",
      "name": "python3"
    },
    "language_info": {
      "codemirror_mode": {
        "name": "ipython",
        "version": 3
      },
      "file_extension": ".py",
      "mimetype": "text/x-python",
      "name": "python",
      "nbconvert_exporter": "python",
      "pygments_lexer": "ipython3",
      "version": "3.8.8"
    },
    "colab": {
      "name": "05_PythonBasic_26-January-2022.ipynb",
      "provenance": [],
      "collapsed_sections": [],
      "include_colab_link": true
    }
  },
  "nbformat": 4,
  "nbformat_minor": 5
}