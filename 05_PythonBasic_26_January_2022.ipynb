{
  "cells": [
    {
      "cell_type": "markdown",
      "metadata": {
        "id": "view-in-github",
        "colab_type": "text"
      },
      "source": [
        "<a href=\"https://colab.research.google.com/github/sahintarkan/Python-Assignments/blob/main/05_PythonBasic_26_January_2022.ipynb\" target=\"_parent\"><img src=\"https://colab.research.google.com/assets/colab-badge.svg\" alt=\"Open In Colab\"/></a>"
      ]
    },
    {
      "cell_type": "markdown",
      "id": "406f2981",
      "metadata": {
        "id": "406f2981"
      },
      "source": [
        "<img src=\"https://docs.google.com/uc?id=14xeXxFrVRjvOoUYWn_GuyE-v84wVzrqr\" class=\"img-fluid\" alt=\"CLRWY\" width=\"400\" height=\"200\">"
      ]
    },
    {
      "cell_type": "markdown",
      "id": "22263af8",
      "metadata": {
        "id": "22263af8"
      },
      "source": [
        "<h1><p style=\"text-align: center; color:darkblue\">Python In-Class, <br>26 January 2022</p><h1>"
      ]
    },
    {
      "cell_type": "code",
      "execution_count": null,
      "id": "6a6c8fd9",
      "metadata": {
        "id": "6a6c8fd9",
        "outputId": "6b9c82a1-708d-47e0-a6ee-bc9cffab4694"
      },
      "outputs": [
        {
          "data": {
            "text/plain": [
              "'Hi Joseph. Are you ill?'"
            ]
          },
          "execution_count": 4,
          "metadata": {},
          "output_type": "execute_result"
        }
      ],
      "source": [
        "name = \"Joseph\"\n",
        "status = \"ill\"\n",
        "\n",
        "message = f\"Hi {name}. Are you {status}?\"\n",
        "message"
      ]
    },
    {
      "cell_type": "code",
      "execution_count": null,
      "id": "f428e7e3",
      "metadata": {
        "id": "f428e7e3",
        "outputId": "76d5b14e-1b1d-416b-a1e8-f8fba3ce7dd0"
      },
      "outputs": [
        {
          "data": {
            "text/plain": [
              "'Hi Joseph. Are you ill?'"
            ]
          },
          "execution_count": 5,
          "metadata": {},
          "output_type": "execute_result"
        }
      ],
      "source": [
        "message = f\"Hi {name}. \\\n",
        "Are you {status}?\"\n",
        "message"
      ]
    },
    {
      "cell_type": "code",
      "execution_count": null,
      "id": "e2aecb5c",
      "metadata": {
        "id": "e2aecb5c"
      },
      "outputs": [],
      "source": [
        "isim  =\"ALİ veli\""
      ]
    },
    {
      "cell_type": "code",
      "execution_count": null,
      "id": "3efd2426",
      "metadata": {
        "id": "3efd2426",
        "outputId": "8ca9ea1e-eed9-483f-ca97-c90b51a090be"
      },
      "outputs": [
        {
          "data": {
            "text/plain": [
              "'ali̇ VELI'"
            ]
          },
          "execution_count": 7,
          "metadata": {},
          "output_type": "execute_result"
        }
      ],
      "source": [
        "isim.swapcase()"
      ]
    },
    {
      "cell_type": "code",
      "execution_count": null,
      "id": "c2c2bed9",
      "metadata": {
        "id": "c2c2bed9",
        "outputId": "568b697d-7d46-4178-a477-1f1841176914"
      },
      "outputs": [
        {
          "data": {
            "text/plain": [
              "'ALİ veli'"
            ]
          },
          "execution_count": 8,
          "metadata": {},
          "output_type": "execute_result"
        }
      ],
      "source": [
        "isim"
      ]
    },
    {
      "cell_type": "code",
      "execution_count": null,
      "id": "f8515932",
      "metadata": {
        "id": "f8515932"
      },
      "outputs": [],
      "source": [
        "isim = isim.swapcase()"
      ]
    },
    {
      "cell_type": "code",
      "execution_count": null,
      "id": "98ca591d",
      "metadata": {
        "id": "98ca591d",
        "outputId": "ceb8e81a-b444-43a5-e4cb-cbb301126e6e"
      },
      "outputs": [
        {
          "data": {
            "text/plain": [
              "'ali̇ VELI'"
            ]
          },
          "execution_count": 10,
          "metadata": {},
          "output_type": "execute_result"
        }
      ],
      "source": [
        "isim"
      ]
    },
    {
      "cell_type": "code",
      "execution_count": null,
      "id": "6922a833",
      "metadata": {
        "id": "6922a833"
      },
      "outputs": [],
      "source": [
        "soyisim = \"Smithson\""
      ]
    },
    {
      "cell_type": "code",
      "execution_count": null,
      "id": "29521491",
      "metadata": {
        "id": "29521491",
        "outputId": "f056f47b-cb4b-42a6-a8dd-3f0283cb7a4a"
      },
      "outputs": [
        {
          "data": {
            "text/plain": [
              "'sMITHSON'"
            ]
          },
          "execution_count": 12,
          "metadata": {},
          "output_type": "execute_result"
        }
      ],
      "source": [
        "soy = soyisim.swapcase()\n",
        "soy"
      ]
    },
    {
      "cell_type": "code",
      "execution_count": null,
      "id": "c957bf81",
      "metadata": {
        "id": "c957bf81",
        "outputId": "699b9183-eb7f-41d3-e07c-0ec9938af006"
      },
      "outputs": [
        {
          "name": "stdout",
          "output_type": "stream",
          "text": [
            "True\n",
            "True\n"
          ]
        }
      ],
      "source": [
        "email = \"clarusway@clarusway.com is my e-mail address\"\n",
        "print(email.startswith(\"@\", 9))\n",
        "print(email.endswith(\"-\", 10, 32))"
      ]
    },
    {
      "cell_type": "code",
      "execution_count": null,
      "id": "19763a22",
      "metadata": {
        "id": "19763a22"
      },
      "outputs": [],
      "source": [
        "text = \"Clarusway\""
      ]
    },
    {
      "cell_type": "code",
      "execution_count": null,
      "id": "0caa8b1e",
      "metadata": {
        "id": "0caa8b1e",
        "outputId": "efe3b0fe-6f15-403a-b9a9-c5255afe4aea"
      },
      "outputs": [
        {
          "data": {
            "text/plain": [
              "'clarusway'"
            ]
          },
          "execution_count": 15,
          "metadata": {},
          "output_type": "execute_result"
        }
      ],
      "source": [
        "text.replace(\"C\", \"c\")"
      ]
    },
    {
      "cell_type": "code",
      "execution_count": null,
      "id": "f16b6f5b",
      "metadata": {
        "id": "f16b6f5b",
        "outputId": "b31fbe67-aaf1-46dd-a23c-244345cec8c0"
      },
      "outputs": [
        {
          "data": {
            "text/plain": [
              "'Clarusway'"
            ]
          },
          "execution_count": 16,
          "metadata": {},
          "output_type": "execute_result"
        }
      ],
      "source": [
        "text"
      ]
    },
    {
      "cell_type": "code",
      "execution_count": null,
      "id": "1554e1a0",
      "metadata": {
        "id": "1554e1a0",
        "outputId": "9311f9dc-e11e-434b-ded0-1ecb05880a7d"
      },
      "outputs": [
        {
          "data": {
            "text/plain": [
              "'Cl**rusw**y'"
            ]
          },
          "execution_count": 17,
          "metadata": {},
          "output_type": "execute_result"
        }
      ],
      "source": [
        "text.replace(\"a\", \"**\")"
      ]
    },
    {
      "cell_type": "code",
      "execution_count": null,
      "id": "2d91dfe1",
      "metadata": {
        "id": "2d91dfe1",
        "outputId": "b446686d-a2fe-4252-dd45-8dad3b43514b"
      },
      "outputs": [
        {
          "data": {
            "text/plain": [
              "str"
            ]
          },
          "execution_count": 18,
          "metadata": {},
          "output_type": "execute_result"
        }
      ],
      "source": [
        "type(text.replace(\"a\", \"**\"))"
      ]
    },
    {
      "cell_type": "code",
      "execution_count": null,
      "id": "79dbeff0",
      "metadata": {
        "id": "79dbeff0",
        "outputId": "f954cae1-55ae-4f67-a2fc-7f662a7c8a11"
      },
      "outputs": [
        {
          "data": {
            "text/plain": [
              "'Clarusway'"
            ]
          },
          "execution_count": 19,
          "metadata": {},
          "output_type": "execute_result"
        }
      ],
      "source": [
        "text"
      ]
    },
    {
      "cell_type": "code",
      "execution_count": null,
      "id": "154c7b82",
      "metadata": {
        "id": "154c7b82",
        "outputId": "ba6d0400-27f7-46e3-dfbe-9547fd41b5fb"
      },
      "outputs": [
        {
          "data": {
            "text/plain": [
              "'Cl--rusw--y'"
            ]
          },
          "execution_count": 22,
          "metadata": {},
          "output_type": "execute_result"
        }
      ],
      "source": [
        "text.replace(\"a\", \"--\")"
      ]
    },
    {
      "cell_type": "code",
      "execution_count": null,
      "id": "4707a554",
      "metadata": {
        "id": "4707a554",
        "outputId": "133771c5-35b3-43dd-857d-16508c76a771"
      },
      "outputs": [
        {
          "data": {
            "text/plain": [
              "'Cl--ruw--y'"
            ]
          },
          "execution_count": 23,
          "metadata": {},
          "output_type": "execute_result"
        }
      ],
      "source": [
        "text.replace(\"a\", \"--\").replace(\"s\", \"\")"
      ]
    },
    {
      "cell_type": "code",
      "execution_count": null,
      "id": "6f4284d2",
      "metadata": {
        "id": "6f4284d2",
        "outputId": "f39af122-d1b8-4ef6-e863-762015a21127"
      },
      "outputs": [
        {
          "data": {
            "text/plain": [
              "'CL--RUW--Y'"
            ]
          },
          "execution_count": 24,
          "metadata": {},
          "output_type": "execute_result"
        }
      ],
      "source": [
        "text.replace(\"a\", \"--\").replace(\"s\", \"\").upper()"
      ]
    },
    {
      "cell_type": "code",
      "execution_count": null,
      "id": "65e153c1",
      "metadata": {
        "id": "65e153c1"
      },
      "outputs": [],
      "source": [
        "my_string = \"    listen first      \""
      ]
    },
    {
      "cell_type": "code",
      "execution_count": null,
      "id": "b4f1d595",
      "metadata": {
        "id": "b4f1d595",
        "outputId": "5610b61c-716e-4591-beab-760026040d36"
      },
      "outputs": [
        {
          "data": {
            "text/plain": [
              "'listen first'"
            ]
          },
          "execution_count": 26,
          "metadata": {},
          "output_type": "execute_result"
        }
      ],
      "source": [
        "my_string.strip()"
      ]
    },
    {
      "cell_type": "code",
      "execution_count": null,
      "id": "93769659",
      "metadata": {
        "id": "93769659"
      },
      "outputs": [],
      "source": [
        "my_string1 = \"\\n  listen first    \\t\""
      ]
    },
    {
      "cell_type": "code",
      "execution_count": null,
      "id": "d96c0b29",
      "metadata": {
        "id": "d96c0b29",
        "outputId": "ddeab392-5002-4eed-e785-d84f4efe8b6a"
      },
      "outputs": [
        {
          "data": {
            "text/plain": [
              "'listen first'"
            ]
          },
          "execution_count": 29,
          "metadata": {},
          "output_type": "execute_result"
        }
      ],
      "source": [
        "my_string1.strip()"
      ]
    },
    {
      "cell_type": "code",
      "execution_count": 5,
      "id": "8d74dccd",
      "metadata": {
        "colab": {
          "base_uri": "https://localhost:8080/"
        },
        "id": "8d74dccd",
        "outputId": "806a38aa-ea7d-4e67-b9d1-18884a4ba319"
      },
      "outputs": [
        {
          "output_type": "stream",
          "name": "stdout",
          "text": [
            "Kısaltmasını öğrenmek istediğiniz kurum adını girin: ali veli deli\n",
            "avd"
          ]
        }
      ],
      "source": [
        "kardiz = input(\"Kısaltmasını öğrenmek istediğiniz kurum adını girin: \")\n",
        "for i in kardiz.split():\n",
        "   print(i[0], end=\"\")"
      ]
    }
  ],
  "metadata": {
    "kernelspec": {
      "display_name": "Python 3",
      "language": "python",
      "name": "python3"
    },
    "language_info": {
      "codemirror_mode": {
        "name": "ipython",
        "version": 3
      },
      "file_extension": ".py",
      "mimetype": "text/x-python",
      "name": "python",
      "nbconvert_exporter": "python",
      "pygments_lexer": "ipython3",
      "version": "3.8.8"
    },
    "colab": {
      "name": "05_PythonBasic_26-January-2022.ipynb",
      "provenance": [],
      "include_colab_link": true
    }
  },
  "nbformat": 4,
  "nbformat_minor": 5
}