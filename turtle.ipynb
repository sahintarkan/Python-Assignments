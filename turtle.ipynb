{
  "nbformat": 4,
  "nbformat_minor": 0,
  "metadata": {
    "colab": {
      "name": "turtle.ipynb",
      "provenance": [],
      "authorship_tag": "ABX9TyN3ILpVl/XRzt8X9Cvw5ihB",
      "include_colab_link": true
    },
    "kernelspec": {
      "name": "python3",
      "display_name": "Python 3"
    },
    "language_info": {
      "name": "python"
    }
  },
  "cells": [
    {
      "cell_type": "markdown",
      "metadata": {
        "id": "view-in-github",
        "colab_type": "text"
      },
      "source": [
        "<a href=\"https://colab.research.google.com/github/sahintarkan/Python-Assignments/blob/main/turtle.ipynb\" target=\"_parent\"><img src=\"https://colab.research.google.com/assets/colab-badge.svg\" alt=\"Open In Colab\"/></a>"
      ]
    },
    {
      "cell_type": "code",
      "execution_count": 4,
      "metadata": {
        "colab": {
          "base_uri": "https://localhost:8080/",
          "height": 396
        },
        "id": "CfPJTwOxEk2G",
        "outputId": "4427719d-c949-48b0-a81c-6b0a3f691e9c"
      },
      "outputs": [
        {
          "output_type": "error",
          "ename": "TclError",
          "evalue": "ignored",
          "traceback": [
            "\u001b[0;31m---------------------------------------------------------------------------\u001b[0m",
            "\u001b[0;31mTclError\u001b[0m                                  Traceback (most recent call last)",
            "\u001b[0;32m<ipython-input-4-40c56e924757>\u001b[0m in \u001b[0;36m<module>\u001b[0;34m()\u001b[0m\n\u001b[1;32m      1\u001b[0m \u001b[0;32mimport\u001b[0m \u001b[0mturtle\u001b[0m\u001b[0;34m\u001b[0m\u001b[0;34m\u001b[0m\u001b[0m\n\u001b[0;32m----> 2\u001b[0;31m \u001b[0mkalem\u001b[0m\u001b[0;34m=\u001b[0m\u001b[0mturtle\u001b[0m\u001b[0;34m.\u001b[0m\u001b[0mTurtle\u001b[0m\u001b[0;34m(\u001b[0m\u001b[0;34m)\u001b[0m\u001b[0;34m\u001b[0m\u001b[0;34m\u001b[0m\u001b[0m\n\u001b[0m\u001b[1;32m      3\u001b[0m \u001b[0;32mfor\u001b[0m \u001b[0mi\u001b[0m \u001b[0;32min\u001b[0m \u001b[0mrange\u001b[0m\u001b[0;34m(\u001b[0m\u001b[0;36m5\u001b[0m\u001b[0;34m)\u001b[0m\u001b[0;34m:\u001b[0m\u001b[0;34m\u001b[0m\u001b[0;34m\u001b[0m\u001b[0m\n\u001b[1;32m      4\u001b[0m  \u001b[0mkalem\u001b[0m\u001b[0;34m.\u001b[0m\u001b[0mdot\u001b[0m\u001b[0;34m(\u001b[0m\u001b[0;34m)\u001b[0m\u001b[0;34m\u001b[0m\u001b[0;34m\u001b[0m\u001b[0m\n\u001b[1;32m      5\u001b[0m  \u001b[0mkalem\u001b[0m\u001b[0;34m.\u001b[0m\u001b[0mforward\u001b[0m\u001b[0;34m(\u001b[0m\u001b[0;36m20\u001b[0m\u001b[0;34m)\u001b[0m\u001b[0;34m\u001b[0m\u001b[0;34m\u001b[0m\u001b[0m\n",
            "\u001b[0;32m/usr/lib/python3.7/turtle.py\u001b[0m in \u001b[0;36m__init__\u001b[0;34m(self, shape, undobuffersize, visible)\u001b[0m\n\u001b[1;32m   3810\u001b[0m                  visible=_CFG[\"visible\"]):\n\u001b[1;32m   3811\u001b[0m         \u001b[0;32mif\u001b[0m \u001b[0mTurtle\u001b[0m\u001b[0;34m.\u001b[0m\u001b[0m_screen\u001b[0m \u001b[0;32mis\u001b[0m \u001b[0;32mNone\u001b[0m\u001b[0;34m:\u001b[0m\u001b[0;34m\u001b[0m\u001b[0;34m\u001b[0m\u001b[0m\n\u001b[0;32m-> 3812\u001b[0;31m             \u001b[0mTurtle\u001b[0m\u001b[0;34m.\u001b[0m\u001b[0m_screen\u001b[0m \u001b[0;34m=\u001b[0m \u001b[0mScreen\u001b[0m\u001b[0;34m(\u001b[0m\u001b[0;34m)\u001b[0m\u001b[0;34m\u001b[0m\u001b[0;34m\u001b[0m\u001b[0m\n\u001b[0m\u001b[1;32m   3813\u001b[0m         RawTurtle.__init__(self, Turtle._screen,\n\u001b[1;32m   3814\u001b[0m                            \u001b[0mshape\u001b[0m\u001b[0;34m=\u001b[0m\u001b[0mshape\u001b[0m\u001b[0;34m,\u001b[0m\u001b[0;34m\u001b[0m\u001b[0;34m\u001b[0m\u001b[0m\n",
            "\u001b[0;32m/usr/lib/python3.7/turtle.py\u001b[0m in \u001b[0;36mScreen\u001b[0;34m()\u001b[0m\n\u001b[1;32m   3660\u001b[0m     else return the existing one.\"\"\"\n\u001b[1;32m   3661\u001b[0m     \u001b[0;32mif\u001b[0m \u001b[0mTurtle\u001b[0m\u001b[0;34m.\u001b[0m\u001b[0m_screen\u001b[0m \u001b[0;32mis\u001b[0m \u001b[0;32mNone\u001b[0m\u001b[0;34m:\u001b[0m\u001b[0;34m\u001b[0m\u001b[0;34m\u001b[0m\u001b[0m\n\u001b[0;32m-> 3662\u001b[0;31m         \u001b[0mTurtle\u001b[0m\u001b[0;34m.\u001b[0m\u001b[0m_screen\u001b[0m \u001b[0;34m=\u001b[0m \u001b[0m_Screen\u001b[0m\u001b[0;34m(\u001b[0m\u001b[0;34m)\u001b[0m\u001b[0;34m\u001b[0m\u001b[0;34m\u001b[0m\u001b[0m\n\u001b[0m\u001b[1;32m   3663\u001b[0m     \u001b[0;32mreturn\u001b[0m \u001b[0mTurtle\u001b[0m\u001b[0;34m.\u001b[0m\u001b[0m_screen\u001b[0m\u001b[0;34m\u001b[0m\u001b[0;34m\u001b[0m\u001b[0m\n\u001b[1;32m   3664\u001b[0m \u001b[0;34m\u001b[0m\u001b[0m\n",
            "\u001b[0;32m/usr/lib/python3.7/turtle.py\u001b[0m in \u001b[0;36m__init__\u001b[0;34m(self)\u001b[0m\n\u001b[1;32m   3676\u001b[0m         \u001b[0;31m# preserved (perhaps by passing it as an optional parameter)\u001b[0m\u001b[0;34m\u001b[0m\u001b[0;34m\u001b[0m\u001b[0;34m\u001b[0m\u001b[0m\n\u001b[1;32m   3677\u001b[0m         \u001b[0;32mif\u001b[0m \u001b[0m_Screen\u001b[0m\u001b[0;34m.\u001b[0m\u001b[0m_root\u001b[0m \u001b[0;32mis\u001b[0m \u001b[0;32mNone\u001b[0m\u001b[0;34m:\u001b[0m\u001b[0;34m\u001b[0m\u001b[0;34m\u001b[0m\u001b[0m\n\u001b[0;32m-> 3678\u001b[0;31m             \u001b[0m_Screen\u001b[0m\u001b[0;34m.\u001b[0m\u001b[0m_root\u001b[0m \u001b[0;34m=\u001b[0m \u001b[0mself\u001b[0m\u001b[0;34m.\u001b[0m\u001b[0m_root\u001b[0m \u001b[0;34m=\u001b[0m \u001b[0m_Root\u001b[0m\u001b[0;34m(\u001b[0m\u001b[0;34m)\u001b[0m\u001b[0;34m\u001b[0m\u001b[0;34m\u001b[0m\u001b[0m\n\u001b[0m\u001b[1;32m   3679\u001b[0m             \u001b[0mself\u001b[0m\u001b[0;34m.\u001b[0m\u001b[0m_root\u001b[0m\u001b[0;34m.\u001b[0m\u001b[0mtitle\u001b[0m\u001b[0;34m(\u001b[0m\u001b[0m_Screen\u001b[0m\u001b[0;34m.\u001b[0m\u001b[0m_title\u001b[0m\u001b[0;34m)\u001b[0m\u001b[0;34m\u001b[0m\u001b[0;34m\u001b[0m\u001b[0m\n\u001b[1;32m   3680\u001b[0m             \u001b[0mself\u001b[0m\u001b[0;34m.\u001b[0m\u001b[0m_root\u001b[0m\u001b[0;34m.\u001b[0m\u001b[0mondestroy\u001b[0m\u001b[0;34m(\u001b[0m\u001b[0mself\u001b[0m\u001b[0;34m.\u001b[0m\u001b[0m_destroy\u001b[0m\u001b[0;34m)\u001b[0m\u001b[0;34m\u001b[0m\u001b[0;34m\u001b[0m\u001b[0m\n",
            "\u001b[0;32m/usr/lib/python3.7/turtle.py\u001b[0m in \u001b[0;36m__init__\u001b[0;34m(self)\u001b[0m\n\u001b[1;32m    432\u001b[0m     \u001b[0;34m\"\"\"Root class for Screen based on Tkinter.\"\"\"\u001b[0m\u001b[0;34m\u001b[0m\u001b[0;34m\u001b[0m\u001b[0m\n\u001b[1;32m    433\u001b[0m     \u001b[0;32mdef\u001b[0m \u001b[0m__init__\u001b[0m\u001b[0;34m(\u001b[0m\u001b[0mself\u001b[0m\u001b[0;34m)\u001b[0m\u001b[0;34m:\u001b[0m\u001b[0;34m\u001b[0m\u001b[0;34m\u001b[0m\u001b[0m\n\u001b[0;32m--> 434\u001b[0;31m         \u001b[0mTK\u001b[0m\u001b[0;34m.\u001b[0m\u001b[0mTk\u001b[0m\u001b[0;34m.\u001b[0m\u001b[0m__init__\u001b[0m\u001b[0;34m(\u001b[0m\u001b[0mself\u001b[0m\u001b[0;34m)\u001b[0m\u001b[0;34m\u001b[0m\u001b[0;34m\u001b[0m\u001b[0m\n\u001b[0m\u001b[1;32m    435\u001b[0m \u001b[0;34m\u001b[0m\u001b[0m\n\u001b[1;32m    436\u001b[0m     \u001b[0;32mdef\u001b[0m \u001b[0msetupcanvas\u001b[0m\u001b[0;34m(\u001b[0m\u001b[0mself\u001b[0m\u001b[0;34m,\u001b[0m \u001b[0mwidth\u001b[0m\u001b[0;34m,\u001b[0m \u001b[0mheight\u001b[0m\u001b[0;34m,\u001b[0m \u001b[0mcwidth\u001b[0m\u001b[0;34m,\u001b[0m \u001b[0mcheight\u001b[0m\u001b[0;34m)\u001b[0m\u001b[0;34m:\u001b[0m\u001b[0;34m\u001b[0m\u001b[0;34m\u001b[0m\u001b[0m\n",
            "\u001b[0;32m/usr/lib/python3.7/tkinter/__init__.py\u001b[0m in \u001b[0;36m__init__\u001b[0;34m(self, screenName, baseName, className, useTk, sync, use)\u001b[0m\n\u001b[1;32m   2021\u001b[0m                 \u001b[0mbaseName\u001b[0m \u001b[0;34m=\u001b[0m \u001b[0mbaseName\u001b[0m \u001b[0;34m+\u001b[0m \u001b[0mext\u001b[0m\u001b[0;34m\u001b[0m\u001b[0;34m\u001b[0m\u001b[0m\n\u001b[1;32m   2022\u001b[0m         \u001b[0minteractive\u001b[0m \u001b[0;34m=\u001b[0m \u001b[0;36m0\u001b[0m\u001b[0;34m\u001b[0m\u001b[0;34m\u001b[0m\u001b[0m\n\u001b[0;32m-> 2023\u001b[0;31m         \u001b[0mself\u001b[0m\u001b[0;34m.\u001b[0m\u001b[0mtk\u001b[0m \u001b[0;34m=\u001b[0m \u001b[0m_tkinter\u001b[0m\u001b[0;34m.\u001b[0m\u001b[0mcreate\u001b[0m\u001b[0;34m(\u001b[0m\u001b[0mscreenName\u001b[0m\u001b[0;34m,\u001b[0m \u001b[0mbaseName\u001b[0m\u001b[0;34m,\u001b[0m \u001b[0mclassName\u001b[0m\u001b[0;34m,\u001b[0m \u001b[0minteractive\u001b[0m\u001b[0;34m,\u001b[0m \u001b[0mwantobjects\u001b[0m\u001b[0;34m,\u001b[0m \u001b[0museTk\u001b[0m\u001b[0;34m,\u001b[0m \u001b[0msync\u001b[0m\u001b[0;34m,\u001b[0m \u001b[0muse\u001b[0m\u001b[0;34m)\u001b[0m\u001b[0;34m\u001b[0m\u001b[0;34m\u001b[0m\u001b[0m\n\u001b[0m\u001b[1;32m   2024\u001b[0m         \u001b[0;32mif\u001b[0m \u001b[0museTk\u001b[0m\u001b[0;34m:\u001b[0m\u001b[0;34m\u001b[0m\u001b[0;34m\u001b[0m\u001b[0m\n\u001b[1;32m   2025\u001b[0m             \u001b[0mself\u001b[0m\u001b[0;34m.\u001b[0m\u001b[0m_loadtk\u001b[0m\u001b[0;34m(\u001b[0m\u001b[0;34m)\u001b[0m\u001b[0;34m\u001b[0m\u001b[0;34m\u001b[0m\u001b[0m\n",
            "\u001b[0;31mTclError\u001b[0m: no display name and no $DISPLAY environment variable"
          ]
        }
      ],
      "source": [
        "\n",
        "\n",
        "\n",
        "\n"
      ]
    },
    {
      "cell_type": "code",
      "source": [
        "kardiz = input(\"Metin girin: \")\n",
        "aranacak = input(\"Aradığınız harf: \")\n",
        "for i in range(len(kardiz)):\n",
        "  print(\"i'nin değeri: \", i)\n",
        "  if i == kardiz.index(aranacak, i):\n",
        "    print(\"%s. sırada 1 adet %s harfi bulunuyor\" %(i, aranacak))\n",
        "  else:\n",
        "    print(\"%s. sırada %s harfi bulunmuyor\" %(i, aranacak))\n"
      ],
      "metadata": {
        "colab": {
          "base_uri": "https://localhost:8080/"
        },
        "id": "Nl3ljn3fRven",
        "outputId": "3a889d45-bee5-43d2-b32c-c5887a1c9439"
      },
      "execution_count": 8,
      "outputs": [
        {
          "output_type": "stream",
          "name": "stdout",
          "text": [
            "Metin girin: arka\n",
            "Aradığınız harf: a\n",
            "i'nin değeri:  0\n",
            "0. sırada 1 adet a harfi bulunuyor\n",
            "i'nin değeri:  1\n",
            "1. sırada a harfi bulunmuyor\n",
            "i'nin değeri:  2\n",
            "2. sırada a harfi bulunmuyor\n",
            "i'nin değeri:  3\n",
            "3. sırada 1 adet a harfi bulunuyor\n"
          ]
        }
      ]
    },
    {
      "cell_type": "code",
      "source": [
        "metin=\"\"\"Bu programlama dili Guido Van Rossum adli hollandali bir\n",
        "programci tarafindan 90'lı yılların başında geliştirilmeye baslamistir.\n",
        "Çoğu insan, isminin Python olmasına bakarak, bu programlama dilinin, adını\n",
        "piton yılanından aldığını düşünür. Ancak zannedildiğinin aksine bu\n",
        "programlama dilinin adı piton yılanından gelmez. Guido Van Rossum bu\n",
        "programlama dilini, The Monty Python adlı bir İngiliz komedi grubunun, Monty\n",
        "Python's Flying Circus adlı gösterisinden esinlenerek adlandırmıştır. Ancak\n",
        "her ne kadar gerçek böyle olsa da, Python programlama dilinin pek çok yerde\n",
        "bir yılan figürü ile temsil edilmesi neredeyse bir gelenek halini almıştır diyebiliriz\"\"\"\n",
        "\n",
        "yeni_metin=\"\"\n",
        "\n",
        "vovels=\"a,e,i,o,u\"\n",
        "\n",
        "for i in metin:\n",
        "    if  i in vovels: #if not dersek de sessizleri getiriyor\n",
        "       yeni_metin+=i\n",
        "\n",
        "print(yeni_metin)   \n"
      ],
      "metadata": {
        "colab": {
          "base_uri": "https://localhost:8080/",
          "height": 208
        },
        "id": "AGZMq21FRvb8",
        "outputId": "b3f96478-be03-4e0c-946f-caff3e0882fd"
      },
      "execution_count": 18,
      "outputs": [
        {
          "output_type": "error",
          "ename": "AttributeError",
          "evalue": "ignored",
          "traceback": [
            "\u001b[0;31m---------------------------------------------------------------------------\u001b[0m",
            "\u001b[0;31mAttributeError\u001b[0m                            Traceback (most recent call last)",
            "\u001b[0;32m<ipython-input-18-6419c75e0528>\u001b[0m in \u001b[0;36m<module>\u001b[0;34m()\u001b[0m\n\u001b[1;32m     17\u001b[0m        \u001b[0myeni_metin\u001b[0m\u001b[0;34m+=\u001b[0m\u001b[0mi\u001b[0m\u001b[0;34m\u001b[0m\u001b[0;34m\u001b[0m\u001b[0m\n\u001b[1;32m     18\u001b[0m \u001b[0;34m\u001b[0m\u001b[0m\n\u001b[0;32m---> 19\u001b[0;31m \u001b[0mprint\u001b[0m\u001b[0;34m(\u001b[0m\u001b[0myeni_metin\u001b[0m\u001b[0;34m.\u001b[0m\u001b[0mlines\u001b[0m\u001b[0;34m(\u001b[0m\u001b[0;34m)\u001b[0m\u001b[0;34m)\u001b[0m\u001b[0;34m\u001b[0m\u001b[0;34m\u001b[0m\u001b[0m\n\u001b[0m",
            "\u001b[0;31mAttributeError\u001b[0m: 'str' object has no attribute 'lines'"
          ]
        }
      ]
    },
    {
      "cell_type": "code",
      "source": [
        "message=[]\n",
        "counter=0\n",
        "while counter <10:\n",
        "  \n",
        "   a=input(\"mesaj yaz\")\n",
        "   counter+=1\n",
        "   message.append(a)\n",
        "print(message)   \n",
        "\n",
        "\n"
      ],
      "metadata": {
        "colab": {
          "base_uri": "https://localhost:8080/"
        },
        "id": "lfGwKomWRvZC",
        "outputId": "da525056-edf4-4c4d-e3bf-3f8089b2bd2e"
      },
      "execution_count": 28,
      "outputs": [
        {
          "output_type": "stream",
          "name": "stdout",
          "text": [
            "mesaj yazali\n",
            "mesaj yazveli\n",
            "mesaj yazdeli\n",
            "mesaj yazcmi;l\n",
            "mesaj yaznerdesin\n",
            "mesaj yaznere gittin\n",
            "mesaj yazburdamusun\n",
            "mesaj yazhadi ama\\\n",
            "mesaj yazgel artik\n",
            "mesaj yazbeklemrm daha]\n",
            "['ali', 'veli', 'deli', 'cmi;l', 'nerdesin', 'nere gittin', 'burdamusun', 'hadi ama\\\\', 'gel artik', 'beklemrm daha]']\n"
          ]
        }
      ]
    },
    {
      "cell_type": "code",
      "source": [
        "for sıra, karakter in enumerate(dir(str)):\n",
        "  if sıra % 4 == 0: # sutun sayisi belirliyor enteresan\n",
        "     print(\"\\n\", end=\"\")\n",
        "  print(\"%-20s\" %karakter, end=\"\")"
      ],
      "metadata": {
        "colab": {
          "base_uri": "https://localhost:8080/"
        },
        "id": "LgfwL2RYRvWO",
        "outputId": "8f007ce3-dae7-4ac5-fdb7-d829bd6f3789"
      },
      "execution_count": 31,
      "outputs": [
        {
          "output_type": "stream",
          "name": "stdout",
          "text": [
            "\n",
            "__add__             __class__           __contains__        __delattr__         \n",
            "__dir__             __doc__             __eq__              __format__          \n",
            "__ge__              __getattribute__    __getitem__         __getnewargs__      \n",
            "__gt__              __hash__            __init__            __init_subclass__   \n",
            "__iter__            __le__              __len__             __lt__              \n",
            "__mod__             __mul__             __ne__              __new__             \n",
            "__reduce__          __reduce_ex__       __repr__            __rmod__            \n",
            "__rmul__            __setattr__         __sizeof__          __str__             \n",
            "__subclasshook__    capitalize          casefold            center              \n",
            "count               encode              endswith            expandtabs          \n",
            "find                format              format_map          index               \n",
            "isalnum             isalpha             isascii             isdecimal           \n",
            "isdigit             isidentifier        islower             isnumeric           \n",
            "isprintable         isspace             istitle             isupper             \n",
            "join                ljust               lower               lstrip              \n",
            "maketrans           partition           replace             rfind               \n",
            "rindex              rjust               rpartition          rsplit              \n",
            "rstrip              split               splitlines          startswith          \n",
            "strip               swapcase            title               translate           \n",
            "upper               zfill               "
          ]
        }
      ]
    },
    {
      "cell_type": "code",
      "source": [
        "for sıra, karakter in enumerate(dir(str)):\n",
        "  if sıra % 3 == 0:\n",
        "    print(\"\\n\", end=\"\")\n",
        "  print(\"{:<20}\".format(karakter), end=\"\")"
      ],
      "metadata": {
        "colab": {
          "base_uri": "https://localhost:8080/"
        },
        "id": "Ns1d2nd2PDbB",
        "outputId": "ccb446b2-b535-4080-cecc-b7e75147d840"
      },
      "execution_count": 40,
      "outputs": [
        {
          "output_type": "stream",
          "name": "stdout",
          "text": [
            "\n",
            "__add__             __class__           __contains__        \n",
            "__delattr__         __dir__             __doc__             \n",
            "__eq__              __format__          __ge__              \n",
            "__getattribute__    __getitem__         __getnewargs__      \n",
            "__gt__              __hash__            __init__            \n",
            "__init_subclass__   __iter__            __le__              \n",
            "__len__             __lt__              __mod__             \n",
            "__mul__             __ne__              __new__             \n",
            "__reduce__          __reduce_ex__       __repr__            \n",
            "__rmod__            __rmul__            __setattr__         \n",
            "__sizeof__          __str__             __subclasshook__    \n",
            "capitalize          casefold            center              \n",
            "count               encode              endswith            \n",
            "expandtabs          find                format              \n",
            "format_map          index               isalnum             \n",
            "isalpha             isascii             isdecimal           \n",
            "isdigit             isidentifier        islower             \n",
            "isnumeric           isprintable         isspace             \n",
            "istitle             isupper             join                \n",
            "ljust               lower               lstrip              \n",
            "maketrans           partition           replace             \n",
            "rfind               rindex              rjust               \n",
            "rpartition          rsplit              rstrip              \n",
            "split               splitlines          startswith          \n",
            "strip               swapcase            title               \n",
            "translate           upper               zfill               "
          ]
        }
      ]
    },
    {
      "cell_type": "code",
      "source": [
        "a=[\"ali\", \"veli\",\"cemil\"]\n",
        "b=\"ali\"\n",
        "b={\"a\":1,\"b\":2}\n",
        "b."
      ],
      "metadata": {
        "id": "YDvWSlesPDXf"
      },
      "execution_count": null,
      "outputs": []
    },
    {
      "cell_type": "code",
      "source": [
        "sayılar = [[0, 10], [6, 60], [12, 54], [67, 99]]\n",
        "for i in sayılar:\n",
        "  print(*range(*i))"
      ],
      "metadata": {
        "colab": {
          "base_uri": "https://localhost:8080/"
        },
        "id": "P75DZZB3PDUi",
        "outputId": "1d61266b-ccf5-4a8c-940a-facb083c6d81"
      },
      "execution_count": 7,
      "outputs": [
        {
          "output_type": "stream",
          "name": "stdout",
          "text": [
            "0 1 2 3 4 5 6 7 8 9\n",
            "6 7 8 9 10 11 12 13 14 15 16 17 18 19 20 21 22 23 24 25 26 27 28 29 30 31 32 33 34 35 36 37 38 39 40 41 42 43 44 45 46 47 48 49 50 51 52 53 54 55 56 57 58 59\n",
            "12 13 14 15 16 17 18 19 20 21 22 23 24 25 26 27 28 29 30 31 32 33 34 35 36 37 38 39 40 41 42 43 44 45 46 47 48 49 50 51 52 53\n",
            "67 68 69 70 71 72 73 74 75 76 77 78 79 80 81 82 83 84 85 86 87 88 89 90 91 92 93 94 95 96 97 98\n"
          ]
        }
      ]
    },
    {
      "cell_type": "code",
      "source": [
        "meyveler = [\"elma\", \"armut\", \"çilek\", \"kiraz\"]\n",
        "for meyve in meyveler:\n",
        "   print(meyve)"
      ],
      "metadata": {
        "colab": {
          "base_uri": "https://localhost:8080/"
        },
        "id": "KFtrcyn8PDPn",
        "outputId": "0bfbfdbe-8b8d-462a-f86f-7a3d68aa5901"
      },
      "execution_count": 9,
      "outputs": [
        {
          "output_type": "stream",
          "name": "stdout",
          "text": [
            "elma\n",
            "armut\n",
            "çilek\n",
            "kiraz\n"
          ]
        }
      ]
    },
    {
      "cell_type": "code",
      "source": [
        "for sıra, öğe in enumerate(meyveler, 1):\n",
        "   print(\"{} - {}\".format(sıra, öğe))"
      ],
      "metadata": {
        "colab": {
          "base_uri": "https://localhost:8080/"
        },
        "id": "b13kaH-PK0J3",
        "outputId": "eafb2e86-fe01-4cc5-fcd1-82601395fd52"
      },
      "execution_count": 14,
      "outputs": [
        {
          "output_type": "stream",
          "name": "stdout",
          "text": [
            "1 - elma\n",
            "2 - armut\n",
            "3 - çilek\n",
            "4 - kiraz\n"
          ]
        }
      ]
    },
    {
      "cell_type": "code",
      "source": [
        "for sira , eleman in enumerate(meyveler ,10):\n",
        "  print(\"{}. {}\".format(sira,eleman))"
      ],
      "metadata": {
        "colab": {
          "base_uri": "https://localhost:8080/"
        },
        "id": "Gm5KYZAgK0Hh",
        "outputId": "44e9a877-9e3c-4b1c-b798-70295d7975a4"
      },
      "execution_count": 17,
      "outputs": [
        {
          "output_type": "stream",
          "name": "stdout",
          "text": [
            "10. elma\n",
            "11. armut\n",
            "12. çilek\n",
            "13. kiraz\n"
          ]
        }
      ]
    },
    {
      "cell_type": "code",
      "source": [
        "metin=[\"nereden nasil geldigini bilmiyorum yasananlar gecmisin aynasi ve gelecege guvenle bakabilecegimiz bir guc noktasi\"]\n",
        "vovals=\"a,e,i,o,u\"\n",
        "yeni_metin=[]\n",
        "for i in metin:\n",
        "   if not i in vovals:\n",
        "     yeni_metin+=i\n",
        "print(yeni_metin)  "
      ],
      "metadata": {
        "colab": {
          "base_uri": "https://localhost:8080/"
        },
        "id": "Yds214s5K0Eq",
        "outputId": "6237aa6b-0a66-476a-e078-9ff7a3279119"
      },
      "execution_count": 11,
      "outputs": [
        {
          "output_type": "stream",
          "name": "stdout",
          "text": [
            "['n', 'e', 'r', 'e', 'd', 'e', 'n', ' ', 'n', 'a', 's', 'i', 'l', ' ', 'g', 'e', 'l', 'd', 'i', 'g', 'i', 'n', 'i', ' ', 'b', 'i', 'l', 'm', 'i', 'y', 'o', 'r', 'u', 'm', ' ', 'y', 'a', 's', 'a', 'n', 'a', 'n', 'l', 'a', 'r', ' ', 'g', 'e', 'c', 'm', 'i', 's', 'i', 'n', ' ', 'a', 'y', 'n', 'a', 's', 'i', ' ', 'v', 'e', ' ', 'g', 'e', 'l', 'e', 'c', 'e', 'g', 'e', ' ', 'g', 'u', 'v', 'e', 'n', 'l', 'e', ' ', 'b', 'a', 'k', 'a', 'b', 'i', 'l', 'e', 'c', 'e', 'g', 'i', 'm', 'i', 'z', ' ', 'b', 'i', 'r', ' ', 'g', 'u', 'c', ' ', 'n', 'o', 'k', 't', 'a', 's', 'i']\n"
          ]
        }
      ]
    },
    {
      "cell_type": "code",
      "source": [
        "sayılar = 0\n",
        "for i in range(5):\n",
        "   sayılar += int(input(\"{}. not: \".format(i+1)))\n",
        "print(\"not ortalamasi\", sayılar/5)\n"
      ],
      "metadata": {
        "colab": {
          "base_uri": "https://localhost:8080/"
        },
        "id": "3VqTWVhdK0B0",
        "outputId": "ab1dcd25-7018-46ea-c3a6-0006df753efd"
      },
      "execution_count": 47,
      "outputs": [
        {
          "output_type": "stream",
          "name": "stdout",
          "text": [
            "1. not: 5\n",
            "2. not: 6\n",
            "3. not: 5\n",
            "4. not: 4\n",
            "5. not: 3\n",
            "not ortalamasi 4.6\n"
          ]
        }
      ]
    },
    {
      "cell_type": "code",
      "source": [
        "sayılar = 0\n",
        "notlar = []\n",
        "for i in range(3):\n",
        "    veri = int(input(\"{}. not: \".format(i+1)))\n",
        "    sayılar += veri\n",
        "    notlar += [veri]\n",
        "print(\"Girdiğiniz notlar: \", *notlar)\n",
        "print(\"Not ortalamanız: \", sayılar/3)"
      ],
      "metadata": {
        "colab": {
          "base_uri": "https://localhost:8080/"
        },
        "id": "HLTRXshQKz_T",
        "outputId": "9e296cd6-f087-40be-873e-c30f3aedb32f"
      },
      "execution_count": 25,
      "outputs": [
        {
          "output_type": "stream",
          "name": "stdout",
          "text": [
            "1. not: 6\n",
            "2. not: 7\n",
            "3. not: 8\n",
            "Girdiğiniz notlar:  8\n",
            "Not ortalamanız:  2.6666666666666665\n"
          ]
        }
      ]
    },
    {
      "cell_type": "code",
      "source": [
        "sayilar = 0\n",
        "notlar = []\n",
        "for i in range(3):\n",
        "   veri = int(input(\"{}. not: \".format(i+1)))\n",
        "   sayilar += veri\n",
        "   notlar += [veri]\n",
        "print(\"Girdiğiniz notlar: \", * notlar)\n",
        "print(\"Not ortalamanız: \", sayilar/3)\n",
        "\n",
        "#print(type([veri]))\n",
        "  "
      ],
      "metadata": {
        "colab": {
          "base_uri": "https://localhost:8080/"
        },
        "id": "_q2lJqA0Kz20",
        "outputId": "a54b0c24-b216-4273-e2e0-2f3d2529f7b2"
      },
      "execution_count": 44,
      "outputs": [
        {
          "output_type": "stream",
          "name": "stdout",
          "text": [
            "1. not: 4\n",
            "2. not: 5\n",
            "3. not: 6\n",
            "Girdiğiniz notlar:  4 5 6\n",
            "Not ortalamanız:  5.0\n",
            "<class 'list'>\n"
          ]
        }
      ]
    },
    {
      "cell_type": "code",
      "source": [
        "list(\"12345\")"
      ],
      "metadata": {
        "colab": {
          "base_uri": "https://localhost:8080/"
        },
        "id": "EE2fx_vUgE8n",
        "outputId": "82d96baf-0d28-4080-9e0c-1212933eabaa"
      },
      "execution_count": 48,
      "outputs": [
        {
          "output_type": "execute_result",
          "data": {
            "text/plain": [
              "['1', '2', '3', '4', '5']"
            ]
          },
          "metadata": {},
          "execution_count": 48
        }
      ]
    },
    {
      "cell_type": "code",
      "source": [
        "notlar = []\n",
        "for i in range(3):\n",
        "   veri = int(input(\"{}. not: \".format(i+1)))\n",
        "   notlar += list(veri)\n",
        "print(\"Girdiğiniz notlar: \", *notlar)"
      ],
      "metadata": {
        "colab": {
          "base_uri": "https://localhost:8080/",
          "height": 245
        },
        "id": "wxnvc4EggE5U",
        "outputId": "c460108d-ed32-4eee-acd5-9d59ccb96ad6"
      },
      "execution_count": 50,
      "outputs": [
        {
          "name": "stdout",
          "output_type": "stream",
          "text": [
            "1. not: 4\n"
          ]
        },
        {
          "output_type": "error",
          "ename": "TypeError",
          "evalue": "ignored",
          "traceback": [
            "\u001b[0;31m---------------------------------------------------------------------------\u001b[0m",
            "\u001b[0;31mTypeError\u001b[0m                                 Traceback (most recent call last)",
            "\u001b[0;32m<ipython-input-50-0440dc14e4c7>\u001b[0m in \u001b[0;36m<module>\u001b[0;34m()\u001b[0m\n\u001b[1;32m      2\u001b[0m \u001b[0;32mfor\u001b[0m \u001b[0mi\u001b[0m \u001b[0;32min\u001b[0m \u001b[0mrange\u001b[0m\u001b[0;34m(\u001b[0m\u001b[0;36m3\u001b[0m\u001b[0;34m)\u001b[0m\u001b[0;34m:\u001b[0m\u001b[0;34m\u001b[0m\u001b[0;34m\u001b[0m\u001b[0m\n\u001b[1;32m      3\u001b[0m    \u001b[0mveri\u001b[0m \u001b[0;34m=\u001b[0m \u001b[0mint\u001b[0m\u001b[0;34m(\u001b[0m\u001b[0minput\u001b[0m\u001b[0;34m(\u001b[0m\u001b[0;34m\"{}. not: \"\u001b[0m\u001b[0;34m.\u001b[0m\u001b[0mformat\u001b[0m\u001b[0;34m(\u001b[0m\u001b[0mi\u001b[0m\u001b[0;34m+\u001b[0m\u001b[0;36m1\u001b[0m\u001b[0;34m)\u001b[0m\u001b[0;34m)\u001b[0m\u001b[0;34m)\u001b[0m\u001b[0;34m\u001b[0m\u001b[0;34m\u001b[0m\u001b[0m\n\u001b[0;32m----> 4\u001b[0;31m    \u001b[0mnotlar\u001b[0m \u001b[0;34m+=\u001b[0m \u001b[0mlist\u001b[0m\u001b[0;34m(\u001b[0m\u001b[0mveri\u001b[0m\u001b[0;34m)\u001b[0m\u001b[0;34m\u001b[0m\u001b[0;34m\u001b[0m\u001b[0m\n\u001b[0m\u001b[1;32m      5\u001b[0m \u001b[0mprint\u001b[0m\u001b[0;34m(\u001b[0m\u001b[0;34m\"Girdiğiniz notlar: \"\u001b[0m\u001b[0;34m,\u001b[0m \u001b[0;34m*\u001b[0m\u001b[0mnotlar\u001b[0m\u001b[0;34m)\u001b[0m\u001b[0;34m\u001b[0m\u001b[0;34m\u001b[0m\u001b[0m\n",
            "\u001b[0;31mTypeError\u001b[0m: 'int' object is not iterable"
          ]
        }
      ]
    },
    {
      "cell_type": "code",
      "source": [
        "notlar = []\n",
        "for i in range(3):\n",
        "   veri = input(\"{}. not: \".format(i+1))  #notlar iki haneli ise ayri ayri yazar\n",
        "   notlar += list(veri)\n",
        "print(\"Girdiğiniz notlar: \", *notlar)"
      ],
      "metadata": {
        "colab": {
          "base_uri": "https://localhost:8080/"
        },
        "id": "XZZaEjpygE2C",
        "outputId": "ac633f94-39a7-4b3e-f7be-f18e69ff1225"
      },
      "execution_count": 53,
      "outputs": [
        {
          "output_type": "stream",
          "name": "stdout",
          "text": [
            "1. not: 11\n",
            "2. not: 10\n",
            "3. not: 56\n",
            "Girdiğiniz notlar:  1 1 1 0 5 6\n"
          ]
        }
      ]
    },
    {
      "cell_type": "code",
      "source": [
        "liste = []\n",
        "sum=0\n",
        "while True:\n",
        "  sayi = input(\"Bir sayı girin: (çıkmak için q) \")\n",
        "  liste+=sayi #[] sayi yi liste icine de alabiliriz ciktiyi liste icinde verir\n",
        "  if sayi==\"q\":\n",
        "    liste.remove(\"q\") \n",
        "  if sayi == \"q\":\n",
        "    break\n",
        "  sum+=int(sayi)  \n",
        "   \n",
        "print(liste)  \n",
        "print(sum)  "
      ],
      "metadata": {
        "colab": {
          "base_uri": "https://localhost:8080/"
        },
        "id": "nYVgaAz6gEzA",
        "outputId": "0e401d4b-fa2a-4870-fcba-c0d05690740e"
      },
      "execution_count": 66,
      "outputs": [
        {
          "output_type": "stream",
          "name": "stdout",
          "text": [
            "Bir sayı girin: (çıkmak için q) 4\n",
            "Bir sayı girin: (çıkmak için q) 5\n",
            "Bir sayı girin: (çıkmak için q) q\n",
            "['4', '5']\n",
            "9\n"
          ]
        }
      ]
    }
  ]
}