{
  "nbformat": 4,
  "nbformat_minor": 0,
  "metadata": {
    "colab": {
      "name": "loops.ipynb",
      "provenance": [],
      "authorship_tag": "ABX9TyPORAjOSCYMIa5MfS+cPLhr",
      "include_colab_link": true
    },
    "kernelspec": {
      "name": "python3",
      "display_name": "Python 3"
    },
    "language_info": {
      "name": "python"
    }
  },
  "cells": [
    {
      "cell_type": "markdown",
      "metadata": {
        "id": "view-in-github",
        "colab_type": "text"
      },
      "source": [
        "<a href=\"https://colab.research.google.com/github/sahintarkan/Python-Assignments/blob/main/loops.ipynb\" target=\"_parent\"><img src=\"https://colab.research.google.com/assets/colab-badge.svg\" alt=\"Open In Colab\"/></a>"
      ]
    },
    {
      "cell_type": "code",
      "source": [
        "number = 0\n",
        "\n",
        "while number < 6:\n",
        "    print(number)\n",
        "    number += 1\n",
        "print('now, number is bigger or equal to 6')"
      ],
      "metadata": {
        "colab": {
          "base_uri": "https://localhost:8080/"
        },
        "id": "uRORxVoJkd2T",
        "outputId": "acd5a6e6-d577-4202-fbfb-25562389fb55"
      },
      "execution_count": null,
      "outputs": [
        {
          "output_type": "stream",
          "name": "stdout",
          "text": [
            "0\n",
            "1\n",
            "2\n",
            "3\n",
            "4\n",
            "5\n",
            "now, number is bigger or equal to 6\n"
          ]
        }
      ]
    },
    {
      "cell_type": "code",
      "execution_count": null,
      "metadata": {
        "colab": {
          "base_uri": "https://localhost:8080/"
        },
        "id": "1Gkz9QwHaZwW",
        "outputId": "aac811d2-940c-4542-c0bf-08554305b0dd"
      },
      "outputs": [
        {
          "output_type": "stream",
          "name": "stdout",
          "text": [
            "square of 0 is : 0\n",
            "square of 1 is : 1\n",
            "square of 2 is : 4\n",
            "square of 3 is : 9\n",
            "square of 4 is : 16\n"
          ]
        }
      ],
      "source": [
        "my_list=[\"a\", \"b\", \"c\", \"d\", \"e\"]\n",
        "\n",
        "x = 0\n",
        "\n",
        "while x < len(my_list):\n",
        "    print('square of {} is : {}'.format(x, x**2))\n",
        "    x+=1"
      ]
    },
    {
      "cell_type": "code",
      "source": [
        "answer=44\n",
        "question = 'What number am I thinking of?  '\n",
        "print (\"Let's play the guessing game!\")\n",
        "\n",
        "while True:\n",
        "    guess = int(input(question))\n",
        "\n",
        "    if guess < answer:\n",
        "        print('Little higher')\n",
        "    elif guess > answer:\n",
        "        print('Little lower')\n",
        "    else:  # guess == answer\n",
        "        print('Are you a MINDREADER!!!')\n",
        "        break"
      ],
      "metadata": {
        "colab": {
          "base_uri": "https://localhost:8080/"
        },
        "id": "ifRMjlH8bHEa",
        "outputId": "ee2daf34-b0dd-415b-bd17-588ae0d32f66"
      },
      "execution_count": null,
      "outputs": [
        {
          "output_type": "stream",
          "name": "stdout",
          "text": [
            "Let's play the guessing game!\n",
            "What number am I thinking of?  34\n",
            "Little higher\n",
            "What number am I thinking of?  40\n",
            "Little higher\n",
            "What number am I thinking of?  44\n",
            "Are you a MINDREADER!!!\n"
          ]
        }
      ]
    },
    {
      "cell_type": "code",
      "source": [
        "for i in {'n1' : 'one', 'n2' : 'two'} : \n",
        "  print(i)"
      ],
      "metadata": {
        "colab": {
          "base_uri": "https://localhost:8080/"
        },
        "id": "P4ins7pkdNM2",
        "outputId": "ac256b20-a467-4329-e47e-e4ec2d6c4a74"
      },
      "execution_count": null,
      "outputs": [
        {
          "output_type": "stream",
          "name": "stdout",
          "text": [
            "n1\n",
            "n2\n"
          ]
        }
      ]
    },
    {
      "cell_type": "code",
      "source": [
        "seasons = ['spring', 'summer', 'autumn', 'winter']\n",
        "\n",
        "for season in seasons :\n",
        "    print(season)\n"
      ],
      "metadata": {
        "colab": {
          "base_uri": "https://localhost:8080/"
        },
        "id": "XPJxERqdk4qP",
        "outputId": "31cc2776-6bb4-488d-86cc-52bb4ada5f41"
      },
      "execution_count": null,
      "outputs": [
        {
          "output_type": "stream",
          "name": "stdout",
          "text": [
            "spring\n",
            "summer\n",
            "autumn\n",
            "winter\n"
          ]
        }
      ]
    },
    {
      "cell_type": "code",
      "source": [
        "times = int(input(\"How many times should I say 'I love you'\"))\n",
        "\n",
        "for i in range(times):\n",
        "    print('I love you')\n",
        "    "
      ],
      "metadata": {
        "colab": {
          "base_uri": "https://localhost:8080/"
        },
        "id": "WEGg-GYmfE7b",
        "outputId": "cf548a28-2cab-4305-f84b-eddc8c008cdc"
      },
      "execution_count": null,
      "outputs": [
        {
          "output_type": "stream",
          "name": "stdout",
          "text": [
            "How many times should I say 'I love you'2\n",
            "I love you\n",
            "I love you\n"
          ]
        }
      ]
    },
    {
      "cell_type": "code",
      "source": [
        "n = int(input('enter a number between 1-10'))\n",
        "\n",
        "for i in range(11):\n",
        "    print('{}x{} = '.format(n, i), n*i)\n"
      ],
      "metadata": {
        "colab": {
          "base_uri": "https://localhost:8080/"
        },
        "id": "SAvV_4JZfF9G",
        "outputId": "e6fd06b0-e621-49c7-f779-13553b968bc1"
      },
      "execution_count": null,
      "outputs": [
        {
          "output_type": "stream",
          "name": "stdout",
          "text": [
            "enter a number between 1-105\n",
            "5x0 =  0\n",
            "5x1 =  5\n",
            "5x2 =  10\n",
            "5x3 =  15\n",
            "5x4 =  20\n",
            "5x5 =  25\n",
            "5x6 =  30\n",
            "5x7 =  35\n",
            "5x8 =  40\n",
            "5x9 =  45\n",
            "5x10 =  50\n"
          ]
        }
      ]
    },
    {
      "cell_type": "code",
      "source": [
        "b = list(range(11))\n",
        "\n",
        "print(b)\n",
        "\n"
      ],
      "metadata": {
        "colab": {
          "base_uri": "https://localhost:8080/"
        },
        "id": "9NGmrJsjfY_6",
        "outputId": "38e5c036-f239-47f2-ec04-150b07585bdb"
      },
      "execution_count": null,
      "outputs": [
        {
          "output_type": "stream",
          "name": "stdout",
          "text": [
            "[0, 1, 2, 3, 4, 5, 6, 7, 8, 9, 10]\n"
          ]
        }
      ]
    },
    {
      "cell_type": "code",
      "source": [
        "a = set(range(0,10))\n",
        "\n",
        "print(a)\n"
      ],
      "metadata": {
        "colab": {
          "base_uri": "https://localhost:8080/"
        },
        "id": "a_FUsrWlfF5H",
        "outputId": "44b7c6fa-f19f-400d-9421-7422666d425c"
      },
      "execution_count": null,
      "outputs": [
        {
          "output_type": "stream",
          "name": "stdout",
          "text": [
            "{0, 1, 2, 3, 4, 5, 6, 7, 8, 9}\n"
          ]
        }
      ]
    },
    {
      "cell_type": "code",
      "source": [
        "c = tuple(range(11))\n",
        "\n",
        "print(c)"
      ],
      "metadata": {
        "colab": {
          "base_uri": "https://localhost:8080/"
        },
        "id": "P74WdvdPfF2-",
        "outputId": "95a09ce6-e475-47d7-f685-1c44f02c1280"
      },
      "execution_count": null,
      "outputs": [
        {
          "output_type": "stream",
          "name": "stdout",
          "text": [
            "(0, 1, 2, 3, 4, 5, 6, 7, 8, 9, 10)\n"
          ]
        }
      ]
    },
    {
      "cell_type": "code",
      "source": [
        "print(range(5)) "
      ],
      "metadata": {
        "colab": {
          "base_uri": "https://localhost:8080/"
        },
        "id": "I_0a0nXpfF0s",
        "outputId": "cc3db40a-416a-408a-d8d1-5ca80ee71eb8"
      },
      "execution_count": null,
      "outputs": [
        {
          "output_type": "stream",
          "name": "stdout",
          "text": [
            "range(0, 5)\n"
          ]
        }
      ]
    },
    {
      "cell_type": "code",
      "source": [
        "print(*range(5)) "
      ],
      "metadata": {
        "colab": {
          "base_uri": "https://localhost:8080/"
        },
        "id": "WEzympodfFyb",
        "outputId": "e097e23e-9ea5-4cdc-b8c2-77e47f7e4ac9"
      },
      "execution_count": null,
      "outputs": [
        {
          "output_type": "stream",
          "name": "stdout",
          "text": [
            "0 1 2 3 4\n"
          ]
        }
      ]
    },
    {
      "cell_type": "code",
      "source": [
        "print(*range(5,25,2))"
      ],
      "metadata": {
        "colab": {
          "base_uri": "https://localhost:8080/"
        },
        "id": "uxT0s9nSfFtY",
        "outputId": "a5e879ad-7a32-45f9-b6cc-7425dd72d594"
      },
      "execution_count": null,
      "outputs": [
        {
          "output_type": "stream",
          "name": "stdout",
          "text": [
            "5 7 9 11 13 15 17 19 21 23\n"
          ]
        }
      ]
    },
    {
      "cell_type": "code",
      "source": [
        "print(*('separate'))"
      ],
      "metadata": {
        "colab": {
          "base_uri": "https://localhost:8080/"
        },
        "id": "--N79t0gfFqs",
        "outputId": "745ae9b8-d36b-44a9-c7b1-77749a3c6df9"
      },
      "execution_count": null,
      "outputs": [
        {
          "output_type": "stream",
          "name": "stdout",
          "text": [
            "s e p a r a t e\n"
          ]
        }
      ]
    },
    {
      "cell_type": "code",
      "source": [
        "print(*range(10,0,-2))"
      ],
      "metadata": {
        "colab": {
          "base_uri": "https://localhost:8080/"
        },
        "id": "2X-L4P4ZfFoJ",
        "outputId": "d0df3f34-a7fc-4f82-d102-46b144f9554a"
      },
      "execution_count": null,
      "outputs": [
        {
          "output_type": "stream",
          "name": "stdout",
          "text": [
            "10 8 6 4 2\n"
          ]
        }
      ]
    },
    {
      "cell_type": "code",
      "source": [
        "text = ['one','two','three','four','five']\n",
        "numbers = [1, 2, 3, 4, 5]\n",
        "for x, y in zip(text, numbers):\n",
        "    print(x, ':', y)\n"
      ],
      "metadata": {
        "colab": {
          "base_uri": "https://localhost:8080/"
        },
        "id": "RytshyI4hA3G",
        "outputId": "88915cfa-1382-41a2-f29f-30bcac5aec1c"
      },
      "execution_count": null,
      "outputs": [
        {
          "output_type": "stream",
          "name": "stdout",
          "text": [
            "one : 1\n",
            "two : 2\n",
            "three : 3\n",
            "four : 4\n",
            "five : 5\n"
          ]
        }
      ]
    },
    {
      "cell_type": "code",
      "source": [
        "who = ['I am ', 'You are ']\n",
        "mood = ['happy', 'confident']\n",
        "for i in who:\n",
        "    for ii in mood:\n",
        "        print(i + ii)\n"
      ],
      "metadata": {
        "colab": {
          "base_uri": "https://localhost:8080/"
        },
        "id": "O1ZV2z9QhA1F",
        "outputId": "1bdbd84b-046a-431b-a0fa-7afb87c593ca"
      },
      "execution_count": null,
      "outputs": [
        {
          "output_type": "stream",
          "name": "stdout",
          "text": [
            "I am happy\n",
            "I am confident\n",
            "You are happy\n",
            "You are confident\n"
          ]
        }
      ]
    },
    {
      "cell_type": "code",
      "source": [
        "iterable = [1, 2, 3, 4]\n",
        "x=0\n",
        "for x in iterable:\n",
        "    print( x**2)\n",
        "    x+=1"
      ],
      "metadata": {
        "colab": {
          "base_uri": "https://localhost:8080/"
        },
        "id": "qRSstpVQhAzD",
        "outputId": "223f1e71-b5be-433e-f2b6-08e8a9c750ac"
      },
      "execution_count": null,
      "outputs": [
        {
          "output_type": "stream",
          "name": "stdout",
          "text": [
            "1\n",
            "4\n",
            "9\n",
            "16\n"
          ]
        }
      ]
    },
    {
      "cell_type": "code",
      "source": [
        "course = 'clarusway'\n",
        "\n",
        "for i in course :\n",
        "    print(i)\n"
      ],
      "metadata": {
        "colab": {
          "base_uri": "https://localhost:8080/"
        },
        "id": "3zCslYNBhAwp",
        "outputId": "78c74c3a-53b5-4a0e-fb98-89737b402290"
      },
      "execution_count": 2,
      "outputs": [
        {
          "output_type": "stream",
          "name": "stdout",
          "text": [
            "c\n",
            "l\n",
            "a\n",
            "r\n",
            "u\n",
            "s\n",
            "w\n",
            "a\n",
            "y\n"
          ]
        }
      ]
    },
    {
      "cell_type": "code",
      "source": [
        "armstrong=int(input(\"bir sayi giriniz\"))\n",
        "\n",
        "x=0\n",
        "\n",
        "while x < len(armstrong):\n",
        "\n",
        "    for i in list(armstrong):\n",
        "        sum= i**(len.armstrong)\n",
        "        i+=i\n",
        "        sum+=sum\n",
        "        print(sum)\n",
        "\n",
        "\n",
        "#for i in (len.armstrong):\n",
        "    #sum= i**(len.armstrong)\n",
        "   # i+=i\n",
        "    #sum+=sum\n",
        "   # print(sum)\n",
        "    #if sum==armstong:\n",
        "        #print(\"it is a armstrong number\")\n",
        "   # else:\n",
        "        #print(\"it is not armstrong number\")    \n",
        "\n",
        "\n",
        "\n",
        "    \n"
      ],
      "metadata": {
        "colab": {
          "base_uri": "https://localhost:8080/",
          "height": 252
        },
        "id": "2VCIFicyhAuJ",
        "outputId": "d5494247-3cc9-4fe4-de8f-542e45987be2"
      },
      "execution_count": null,
      "outputs": [
        {
          "name": "stdout",
          "output_type": "stream",
          "text": [
            "bir sayi giriniz54\n"
          ]
        },
        {
          "output_type": "error",
          "ename": "AttributeError",
          "evalue": "ignored",
          "traceback": [
            "\u001b[0;31m---------------------------------------------------------------------------\u001b[0m",
            "\u001b[0;31mAttributeError\u001b[0m                            Traceback (most recent call last)",
            "\u001b[0;32m<ipython-input-42-751e4737ee95>\u001b[0m in \u001b[0;36m<module>\u001b[0;34m()\u001b[0m\n\u001b[1;32m      3\u001b[0m \u001b[0mx\u001b[0m\u001b[0;34m=\u001b[0m\u001b[0;36m0\u001b[0m\u001b[0;34m\u001b[0m\u001b[0;34m\u001b[0m\u001b[0m\n\u001b[1;32m      4\u001b[0m \u001b[0;34m\u001b[0m\u001b[0m\n\u001b[0;32m----> 5\u001b[0;31m \u001b[0;32mwhile\u001b[0m \u001b[0mx\u001b[0m \u001b[0;34m<\u001b[0m \u001b[0mlen\u001b[0m\u001b[0;34m(\u001b[0m\u001b[0marmstrong\u001b[0m\u001b[0;34m.\u001b[0m\u001b[0mstring\u001b[0m\u001b[0;34m)\u001b[0m\u001b[0;34m:\u001b[0m\u001b[0;34m\u001b[0m\u001b[0;34m\u001b[0m\u001b[0m\n\u001b[0m\u001b[1;32m      6\u001b[0m \u001b[0;34m\u001b[0m\u001b[0m\n\u001b[1;32m      7\u001b[0m     \u001b[0;32mfor\u001b[0m \u001b[0mi\u001b[0m \u001b[0;32min\u001b[0m \u001b[0mlist\u001b[0m\u001b[0;34m(\u001b[0m\u001b[0marmstrong\u001b[0m\u001b[0;34m)\u001b[0m\u001b[0;34m:\u001b[0m\u001b[0;34m\u001b[0m\u001b[0;34m\u001b[0m\u001b[0m\n",
            "\u001b[0;31mAttributeError\u001b[0m: 'int' object has no attribute 'string'"
          ]
        }
      ]
    },
    {
      "cell_type": "code",
      "source": [
        "number = input(\"Please enter a positive integer number : \")\n",
        "num_str = str(number)\n",
        "comp_num=0\n",
        "counter= len(num_str)\n",
        "if number.isdecimal():\n",
        "  for i in num_str:\n",
        "    add=(int(i)**counter)\n",
        "    comp_num += add\n",
        "  if comp_num == int(number):\n",
        "    print(f\"{number} is an Armstrong number\")\n",
        "  else:\n",
        "    print(f\"{number} is not an Armstrong number\")\n",
        "else:\n",
        "  print(\"It's not correct entry.\")"
      ],
      "metadata": {
        "colab": {
          "base_uri": "https://localhost:8080/"
        },
        "id": "XwbiJrZBhAro",
        "outputId": "dd3a64ca-e9cb-431f-e495-df2bf0dadc0c"
      },
      "execution_count": null,
      "outputs": [
        {
          "output_type": "stream",
          "name": "stdout",
          "text": [
            "Please enter a positive integer number : 407\n",
            "407 is an Armstrong number\n"
          ]
        }
      ]
    },
    {
      "cell_type": "code",
      "source": [
        "s = \"28212\"\n",
        "print(s.isdecimal())\n",
        "\n",
        "# contains alphabets\n",
        "s = \"32ladk3\"\n",
        "print(s.isdecimal())\n",
        "\n",
        "# contains alphabets and spaces\n",
        "s = \"Mo3 nicaG el l22er\"\n",
        "print(s.isdecimal())"
      ],
      "metadata": {
        "colab": {
          "base_uri": "https://localhost:8080/"
        },
        "id": "hilPFqbfhApM",
        "outputId": "652a11b7-b177-4600-8354-25f80b416353"
      },
      "execution_count": 4,
      "outputs": [
        {
          "output_type": "stream",
          "name": "stdout",
          "text": [
            "True\n",
            "False\n",
            "False\n"
          ]
        }
      ]
    },
    {
      "cell_type": "code",
      "source": [
        "course = 'clarusway     '\n",
        "course.strip()\n",
        "for i in course.strip() :\n",
        "    print(i , end=\"=\")\n",
        " "
      ],
      "metadata": {
        "id": "630-6ZBahAmu",
        "colab": {
          "base_uri": "https://localhost:8080/"
        },
        "outputId": "fe2c6cc8-2304-4fac-a3f9-399cf5a3ea76"
      },
      "execution_count": 41,
      "outputs": [
        {
          "output_type": "stream",
          "name": "stdout",
          "text": [
            "c=l=a=r=u=s=w=a=y="
          ]
        }
      ]
    },
    {
      "cell_type": "code",
      "source": [
        "\n",
        "a=list(course.strip())\n",
        "\n",
        "print(a)"
      ],
      "metadata": {
        "colab": {
          "base_uri": "https://localhost:8080/"
        },
        "id": "XK89wPpUE-2Y",
        "outputId": "ff4255da-5450-40ae-caaf-c77f84d30ee3"
      },
      "execution_count": 57,
      "outputs": [
        {
          "output_type": "stream",
          "name": "stdout",
          "text": [
            "['c', 'l', 'a', 'r', 'u', 's', 'w', 'a', 'y']\n"
          ]
        }
      ]
    },
    {
      "cell_type": "code",
      "source": [
        "a.remove(\"a\")"
      ],
      "metadata": {
        "id": "Y7Oynb5bIr9S"
      },
      "execution_count": 59,
      "outputs": []
    },
    {
      "cell_type": "code",
      "source": [
        "print(a)"
      ],
      "metadata": {
        "colab": {
          "base_uri": "https://localhost:8080/"
        },
        "id": "2J-tVNJINiFY",
        "outputId": "9d7552a9-b207-4f3b-99ab-d761b52301e3"
      },
      "execution_count": 60,
      "outputs": [
        {
          "output_type": "stream",
          "name": "stdout",
          "text": [
            "['c', 'l', 'r', 'u', 's', 'w', 'a', 'y']\n"
          ]
        }
      ]
    },
    {
      "cell_type": "code",
      "source": [
        "def divisor_count(n):\n",
        "  count = 0\n",
        "  for i in range(1,n+1):\n",
        "    if n % i == 0:\n",
        "      count += 1\n",
        "  return count\n",
        "\n",
        "num_list = [10, 25, 56, 17, 85, 97, 63]\n",
        "\n",
        "divs_dict = {}\n",
        "prime_list = []\n",
        "result = [] \n",
        "\n",
        "for i in num_list:\n",
        "  divs_dict[i] = divisor_count(i)\n",
        "  if divisor_count(i) == 2:\n",
        "    prime_list.append(i)\n",
        "\n",
        "num_maxdiv = max(divs_dict, key= divs_dict.get)\n",
        "num_maxwithdiv = [divs_dict.get(num_maxdiv)]\n",
        "num_maxwithdiv.append([num_maxdiv])\n",
        "result.append(len(num_list))\n",
        "result.append(len(prime_list))\n",
        "result.append(num_maxwithdiv)\n",
        "\n",
        "print(result)"
      ],
      "metadata": {
        "colab": {
          "base_uri": "https://localhost:8080/"
        },
        "id": "nX3wcscSTKk1",
        "outputId": "0fe7d09f-4671-4895-e64c-227460388ac7"
      },
      "execution_count": 61,
      "outputs": [
        {
          "output_type": "stream",
          "name": "stdout",
          "text": [
            "[7, 2, [8, [56]]]\n"
          ]
        }
      ]
    }
  ]
}