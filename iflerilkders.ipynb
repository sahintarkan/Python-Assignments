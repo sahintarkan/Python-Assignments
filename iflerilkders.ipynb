{
  "nbformat": 4,
  "nbformat_minor": 0,
  "metadata": {
    "colab": {
      "name": "iflerilkders.ipynb",
      "provenance": [],
      "toc_visible": true,
      "authorship_tag": "ABX9TyO/bmEM696GZZsBGEcNiByo",
      "include_colab_link": true
    },
    "kernelspec": {
      "name": "python3",
      "display_name": "Python 3"
    },
    "language_info": {
      "name": "python"
    }
  },
  "cells": [
    {
      "cell_type": "markdown",
      "metadata": {
        "id": "view-in-github",
        "colab_type": "text"
      },
      "source": [
        "<a href=\"https://colab.research.google.com/github/sahintarkan/Python-Assignments/blob/main/iflerilkders.ipynb\" target=\"_parent\"><img src=\"https://colab.research.google.com/assets/colab-badge.svg\" alt=\"Open In Colab\"/></a>"
      ]
    },
    {
      "cell_type": "code",
      "execution_count": null,
      "metadata": {
        "colab": {
          "base_uri": "https://localhost:8080/"
        },
        "id": "C1OslRNZPPu7",
        "outputId": "5f778795-b0ca-43f5-b8b4-5c9b81f91def"
      },
      "outputs": [
        {
          "output_type": "stream",
          "name": "stdout",
          "text": [
            "is x equal to y?                 : False\n",
            "is x not equal to y?             : True\n",
            "is x less than y?                : True\n",
            "is x greater than y?             : False\n",
            "is x less than or equal to y?    : True\n",
            "is x greater than or equal to y? : False\n"
          ]
        }
      ],
      "source": [
        "x = 6\n",
        "y = 9\n",
        "print (\"is x equal to y?                 :\" , x == y)\n",
        "print (\"is x not equal to y?             :\" , x != y)\n",
        "print (\"is x less than y?                :\" , x < y)\n",
        "print (\"is x greater than y?             :\" , x > y)\n",
        "print (\"is x less than or equal to y?    :\" , x <= y)\n",
        "print (\"is x greater than or equal to y? :\" , x >= y)"
      ]
    },
    {
      "cell_type": "code",
      "source": [
        "audience = \"baby\"\n",
        "\n",
        "if audience == \"kid\":\n",
        "    print(\"it is free to go to cinema\")\n",
        "elif audience == \"teen\":\n",
        "    print(\"discounted price!\")\n",
        "elif audience == \"adult\":\n",
        "    print(\"normal price\")\n",
        "else:\n",
        "    print(\"No such audience, stay at your home!\")\n"
      ],
      "metadata": {
        "colab": {
          "base_uri": "https://localhost:8080/"
        },
        "id": "D-apg3ABPheQ",
        "outputId": "a8f2123c-c718-4f35-c2a2-768462b4cd51"
      },
      "execution_count": null,
      "outputs": [
        {
          "output_type": "stream",
          "name": "stdout",
          "text": [
            "No such audience, stay at your home!\n"
          ]
        }
      ]
    },
    {
      "cell_type": "code",
      "source": [
        "number=23\n",
        "if number >= 10:\n",
        "    print('The number is equal or greater than 10')\n",
        "elif number < 10:\n",
        "    print(\"The number is less than 10\")\n"
      ],
      "metadata": {
        "colab": {
          "base_uri": "https://localhost:8080/"
        },
        "id": "oKA3Zar-PhV7",
        "outputId": "b3e8715c-62be-4172-cab5-caba6eccfc19"
      },
      "execution_count": null,
      "outputs": [
        {
          "output_type": "stream",
          "name": "stdout",
          "text": [
            "The number is equal or greater than 10\n"
          ]
        }
      ]
    },
    {
      "cell_type": "code",
      "source": [
        "audience_group = 'kid', 'teen', 'adult'\n",
        "\n",
        "audience = \"adult\"\n",
        "\n",
        "if audience in audience_group:\n",
        "    if audience == \"kid\":\n",
        "        print(\"it is free to go to cinema\")\n",
        "    elif audience == \"teen\":\n",
        "        print(\"discounted price!\")\n",
        "    else: # audience == \"adult\":\n",
        "        print(\"normal price\")\n",
        "else:\n",
        "    print(\"No such audience, stay at your home!\")\n"
      ],
      "metadata": {
        "colab": {
          "base_uri": "https://localhost:8080/"
        },
        "id": "_xfXBtnrTCBp",
        "outputId": "eb873a98-50c7-4be6-9ea4-1c53f64ab042"
      },
      "execution_count": null,
      "outputs": [
        {
          "output_type": "stream",
          "name": "stdout",
          "text": [
            "normal price\n"
          ]
        }
      ]
    },
    {
      "cell_type": "code",
      "source": [
        "score = int (input(\"Enter your score :\"))\n",
        "\n",
        "if score >= 90:\n",
        "    if score >= 95:\n",
        "        Score_letter=\"A+\"\n",
        "    else:\n",
        "        Score_letter=\"A\"\n",
        "elif score >= 80:\n",
        "    if score >= 85:\n",
        "        Score_letter=\"B+\"\n",
        "    else:\n",
        "        Score_letter=\"B\"\n",
        "else:\n",
        "    Score_letter=\"below B\"\n",
        "\n",
        "print (\"Your degree: %s\" % Score_letter)"
      ],
      "metadata": {
        "colab": {
          "base_uri": "https://localhost:8080/"
        },
        "id": "t8mmKVcLTh-O",
        "outputId": "6c0e8318-1c6e-455f-d4de-9552a412d282"
      },
      "execution_count": null,
      "outputs": [
        {
          "output_type": "stream",
          "name": "stdout",
          "text": [
            "Enter your score :86\n",
            "Your degree: B+\n"
          ]
        }
      ]
    },
    {
      "cell_type": "code",
      "source": [
        "country=\"CANADA\"\n",
        "if country.lower()==\"canada\":\n",
        "  print('hey look a canadian')\n",
        "else:\n",
        "    print(\"you are not canadian\")"
      ],
      "metadata": {
        "colab": {
          "base_uri": "https://localhost:8080/"
        },
        "id": "M8flaK1qVLXW",
        "outputId": "266fa890-0dde-4ccf-848f-ef320a23209b"
      },
      "execution_count": null,
      "outputs": [
        {
          "output_type": "stream",
          "name": "stdout",
          "text": [
            "hey look a canadian\n"
          ]
        }
      ]
    },
    {
      "cell_type": "code",
      "source": [
        "gpa=int(input(\"puan giriniz\"))\n",
        "lowest_grade=int(input(\"lowest puan gir\"))\n",
        "if gpa >= 85 and lowest_grade >= 70:\n",
        "   honor_roll=True\n",
        "else:\n",
        "  honor_roll=False\n",
        "  print(\"you need to work hard\")\n",
        "if honor_roll:\n",
        "   print(\"well Done\")"
      ],
      "metadata": {
        "colab": {
          "base_uri": "https://localhost:8080/"
        },
        "id": "x6c0fAbkVLVo",
        "outputId": "662558cc-383d-4f3d-98c2-ce77d6198e55"
      },
      "execution_count": null,
      "outputs": [
        {
          "output_type": "stream",
          "name": "stdout",
          "text": [
            "puan giriniz90\n",
            "lowest puan gir90\n",
            "well Done\n"
          ]
        }
      ]
    },
    {
      "cell_type": "code",
      "source": [
        "pasword=\"w@12\"\n",
        "name=\"tarkan\"\n",
        "user=input(\"please enter your name\")\n",
        "if user==\"tarkan\":\n",
        "  print(\"here is the password:\" + pasword)\n",
        "else:\n",
        " print( \"Hello \"+ user + \" see you later.\")"
      ],
      "metadata": {
        "colab": {
          "base_uri": "https://localhost:8080/"
        },
        "id": "0UgJrUH9VLSe",
        "outputId": "4787eaa0-22d3-416c-d3f0-507bb270d32f"
      },
      "execution_count": null,
      "outputs": [
        {
          "output_type": "stream",
          "name": "stdout",
          "text": [
            "please enter your namea\n",
            "Hello a See you later.\n"
          ]
        }
      ]
    },
    {
      "cell_type": "code",
      "source": [
        "age=input(\"are you 75 years old or older than that? please answer True or False\")\n",
        "chronic=input(\"Do you have a severe chronic disease? please answer True or False\")\n",
        "immune=input(\"Is your immune system too weak? please answer True or False\")\n",
        "\n",
        "if age or chronic or immune == \"True\":\n",
        "\n",
        "  death_risk=True\n",
        "\n",
        "else:\n",
        "    death_risk=False\n",
        "print(\"you are not in death risk\")\n",
        "\n",
        "if death_risk:True\n",
        "print(\"You are in death risk\")\n",
        "\n",
        "   \n",
        "\n",
        "   \n",
        "  \n",
        "    \n",
        "\n",
        "  \n",
        "\n",
        "\n",
        "\n",
        "\n"
      ],
      "metadata": {
        "colab": {
          "base_uri": "https://localhost:8080/"
        },
        "id": "onHTnm1FVLPZ",
        "outputId": "f313c9df-a34f-4ce1-bad0-363fe0105317"
      },
      "execution_count": null,
      "outputs": [
        {
          "output_type": "stream",
          "name": "stdout",
          "text": [
            "are you 75 years old or older than that? please answer True or FalseTrue\n",
            "Do you have a severe chronic disease? please answer True or FalseTrue\n",
            "Is your immune system too weak? please answer True or FalseTrue\n",
            "you are not in death risk\n",
            "You are in death risk\n"
          ]
        }
      ]
    },
    {
      "cell_type": "code",
      "source": [
        ""
      ],
      "metadata": {
        "id": "k_aQOLwQVLLM"
      },
      "execution_count": null,
      "outputs": []
    },
    {
      "cell_type": "code",
      "source": [
        ""
      ],
      "metadata": {
        "id": "NLnuWd23VLIS"
      },
      "execution_count": null,
      "outputs": []
    },
    {
      "cell_type": "code",
      "source": [
        ""
      ],
      "metadata": {
        "id": "hEp9FFcnVLAK"
      },
      "execution_count": null,
      "outputs": []
    },
    {
      "cell_type": "code",
      "source": [
        ""
      ],
      "metadata": {
        "id": "u82ricECVK4q"
      },
      "execution_count": null,
      "outputs": []
    },
    {
      "cell_type": "code",
      "source": [
        ""
      ],
      "metadata": {
        "id": "zY1wjd-jVK0E"
      },
      "execution_count": null,
      "outputs": []
    }
  ]
}